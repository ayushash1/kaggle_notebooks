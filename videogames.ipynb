{
 "cells": [
  {
   "cell_type": "code",
   "execution_count": 1,
   "id": "470a5178",
   "metadata": {
    "_cell_guid": "b1076dfc-b9ad-4769-8c92-a6c4dae69d19",
    "_uuid": "8f2839f25d086af736a60e9eeb907d3b93b6e0e5",
    "execution": {
     "iopub.execute_input": "2023-01-26T15:22:23.009686Z",
     "iopub.status.busy": "2023-01-26T15:22:23.009177Z",
     "iopub.status.idle": "2023-01-26T15:22:23.028101Z",
     "shell.execute_reply": "2023-01-26T15:22:23.027009Z"
    },
    "papermill": {
     "duration": 0.028778,
     "end_time": "2023-01-26T15:22:23.031407",
     "exception": false,
     "start_time": "2023-01-26T15:22:23.002629",
     "status": "completed"
    },
    "tags": []
   },
   "outputs": [
    {
     "name": "stdout",
     "output_type": "stream",
     "text": [
      "/kaggle/input/videogamesales/vgsales.csv\n"
     ]
    }
   ],
   "source": [
    "# This Python 3 environment comes with many helpful analytics libraries installed\n",
    "# It is defined by the kaggle/python Docker image: https://github.com/kaggle/docker-python\n",
    "# For example, here's several helpful packages to load\n",
    "\n",
    "import numpy as np # linear algebra\n",
    "import pandas as pd # data processing, CSV file I/O (e.g. pd.read_csv)\n",
    "\n",
    "# Input data files are available in the read-only \"../input/\" directory\n",
    "# For example, running this (by clicking run or pressing Shift+Enter) will list all files under the input directory\n",
    "\n",
    "import os\n",
    "for dirname, _, filenames in os.walk('/kaggle/input'):\n",
    "    for filename in filenames:\n",
    "        print(os.path.join(dirname, filename))\n",
    "\n",
    "# You can write up to 20GB to the current directory (/kaggle/working/) that gets preserved as output when you create a version using \"Save & Run All\" \n",
    "# You can also write temporary files to /kaggle/temp/, but they won't be saved outside of the current session"
   ]
  },
  {
   "cell_type": "code",
   "execution_count": 2,
   "id": "010d2339",
   "metadata": {
    "execution": {
     "iopub.execute_input": "2023-01-26T15:22:23.040039Z",
     "iopub.status.busy": "2023-01-26T15:22:23.039654Z",
     "iopub.status.idle": "2023-01-26T15:22:24.132420Z",
     "shell.execute_reply": "2023-01-26T15:22:24.131060Z"
    },
    "papermill": {
     "duration": 1.099839,
     "end_time": "2023-01-26T15:22:24.135339",
     "exception": false,
     "start_time": "2023-01-26T15:22:23.035500",
     "status": "completed"
    },
    "tags": []
   },
   "outputs": [],
   "source": [
    "#import\n",
    "import numpy as np\n",
    "import pandas as pd\n",
    "import matplotlib.pyplot as plt\n",
    "import seaborn as sns\n",
    "#setting style\n",
    "sns.set_style('whitegrid')"
   ]
  },
  {
   "cell_type": "code",
   "execution_count": 3,
   "id": "4bd99620",
   "metadata": {
    "execution": {
     "iopub.execute_input": "2023-01-26T15:22:24.143040Z",
     "iopub.status.busy": "2023-01-26T15:22:24.142605Z",
     "iopub.status.idle": "2023-01-26T15:22:24.232269Z",
     "shell.execute_reply": "2023-01-26T15:22:24.231038Z"
    },
    "papermill": {
     "duration": 0.096231,
     "end_time": "2023-01-26T15:22:24.234718",
     "exception": false,
     "start_time": "2023-01-26T15:22:24.138487",
     "status": "completed"
    },
    "tags": []
   },
   "outputs": [
    {
     "data": {
      "text/html": [
       "<div>\n",
       "<style scoped>\n",
       "    .dataframe tbody tr th:only-of-type {\n",
       "        vertical-align: middle;\n",
       "    }\n",
       "\n",
       "    .dataframe tbody tr th {\n",
       "        vertical-align: top;\n",
       "    }\n",
       "\n",
       "    .dataframe thead th {\n",
       "        text-align: right;\n",
       "    }\n",
       "</style>\n",
       "<table border=\"1\" class=\"dataframe\">\n",
       "  <thead>\n",
       "    <tr style=\"text-align: right;\">\n",
       "      <th></th>\n",
       "      <th>Rank</th>\n",
       "      <th>Name</th>\n",
       "      <th>Platform</th>\n",
       "      <th>Year</th>\n",
       "      <th>Genre</th>\n",
       "      <th>Publisher</th>\n",
       "      <th>NA_Sales</th>\n",
       "      <th>EU_Sales</th>\n",
       "      <th>JP_Sales</th>\n",
       "      <th>Other_Sales</th>\n",
       "      <th>Global_Sales</th>\n",
       "    </tr>\n",
       "  </thead>\n",
       "  <tbody>\n",
       "    <tr>\n",
       "      <th>16595</th>\n",
       "      <td>16598</td>\n",
       "      <td>SCORE International Baja 1000: The Official Game</td>\n",
       "      <td>PS2</td>\n",
       "      <td>2008.0</td>\n",
       "      <td>Racing</td>\n",
       "      <td>Activision</td>\n",
       "      <td>0.00</td>\n",
       "      <td>0.00</td>\n",
       "      <td>0.0</td>\n",
       "      <td>0.0</td>\n",
       "      <td>0.01</td>\n",
       "    </tr>\n",
       "    <tr>\n",
       "      <th>16596</th>\n",
       "      <td>16599</td>\n",
       "      <td>Know How 2</td>\n",
       "      <td>DS</td>\n",
       "      <td>2010.0</td>\n",
       "      <td>Puzzle</td>\n",
       "      <td>7G//AMES</td>\n",
       "      <td>0.00</td>\n",
       "      <td>0.01</td>\n",
       "      <td>0.0</td>\n",
       "      <td>0.0</td>\n",
       "      <td>0.01</td>\n",
       "    </tr>\n",
       "    <tr>\n",
       "      <th>16597</th>\n",
       "      <td>16600</td>\n",
       "      <td>Spirits &amp; Spells</td>\n",
       "      <td>GBA</td>\n",
       "      <td>2003.0</td>\n",
       "      <td>Platform</td>\n",
       "      <td>Wanadoo</td>\n",
       "      <td>0.01</td>\n",
       "      <td>0.00</td>\n",
       "      <td>0.0</td>\n",
       "      <td>0.0</td>\n",
       "      <td>0.01</td>\n",
       "    </tr>\n",
       "  </tbody>\n",
       "</table>\n",
       "</div>"
      ],
      "text/plain": [
       "        Rank                                              Name Platform  \\\n",
       "16595  16598  SCORE International Baja 1000: The Official Game      PS2   \n",
       "16596  16599                                        Know How 2       DS   \n",
       "16597  16600                                  Spirits & Spells      GBA   \n",
       "\n",
       "         Year     Genre   Publisher  NA_Sales  EU_Sales  JP_Sales  \\\n",
       "16595  2008.0    Racing  Activision      0.00      0.00       0.0   \n",
       "16596  2010.0    Puzzle    7G//AMES      0.00      0.01       0.0   \n",
       "16597  2003.0  Platform     Wanadoo      0.01      0.00       0.0   \n",
       "\n",
       "       Other_Sales  Global_Sales  \n",
       "16595          0.0          0.01  \n",
       "16596          0.0          0.01  \n",
       "16597          0.0          0.01  "
      ]
     },
     "execution_count": 3,
     "metadata": {},
     "output_type": "execute_result"
    }
   ],
   "source": [
    "#reading and checking data\n",
    "df = pd.read_csv(\"/kaggle/input/videogamesales/vgsales.csv\")\n",
    "df.tail(3)"
   ]
  },
  {
   "cell_type": "code",
   "execution_count": 4,
   "id": "d46e028d",
   "metadata": {
    "execution": {
     "iopub.execute_input": "2023-01-26T15:22:24.242746Z",
     "iopub.status.busy": "2023-01-26T15:22:24.242101Z",
     "iopub.status.idle": "2023-01-26T15:22:24.254653Z",
     "shell.execute_reply": "2023-01-26T15:22:24.253506Z"
    },
    "papermill": {
     "duration": 0.01937,
     "end_time": "2023-01-26T15:22:24.257232",
     "exception": false,
     "start_time": "2023-01-26T15:22:24.237862",
     "status": "completed"
    },
    "tags": []
   },
   "outputs": [
    {
     "data": {
      "text/plain": [
       "Rank              0\n",
       "Name              0\n",
       "Platform          0\n",
       "Year            271\n",
       "Genre             0\n",
       "Publisher        58\n",
       "NA_Sales          0\n",
       "EU_Sales          0\n",
       "JP_Sales          0\n",
       "Other_Sales       0\n",
       "Global_Sales      0\n",
       "dtype: int64"
      ]
     },
     "execution_count": 4,
     "metadata": {},
     "output_type": "execute_result"
    }
   ],
   "source": [
    "#checking null values\n",
    "df.isnull().sum()"
   ]
  },
  {
   "cell_type": "code",
   "execution_count": null,
   "id": "45486342",
   "metadata": {
    "papermill": {
     "duration": 0.002952,
     "end_time": "2023-01-26T15:22:24.263595",
     "exception": false,
     "start_time": "2023-01-26T15:22:24.260643",
     "status": "completed"
    },
    "tags": []
   },
   "outputs": [],
   "source": []
  },
  {
   "cell_type": "code",
   "execution_count": 5,
   "id": "001d9070",
   "metadata": {
    "execution": {
     "iopub.execute_input": "2023-01-26T15:22:24.271457Z",
     "iopub.status.busy": "2023-01-26T15:22:24.271054Z",
     "iopub.status.idle": "2023-01-26T15:22:24.286716Z",
     "shell.execute_reply": "2023-01-26T15:22:24.285713Z"
    },
    "papermill": {
     "duration": 0.022391,
     "end_time": "2023-01-26T15:22:24.289086",
     "exception": false,
     "start_time": "2023-01-26T15:22:24.266695",
     "status": "completed"
    },
    "tags": []
   },
   "outputs": [],
   "source": [
    "game = df['Genre'].value_counts().rename_axis('Genre').reset_index(name='Count')"
   ]
  },
  {
   "cell_type": "code",
   "execution_count": 6,
   "id": "eeb09257",
   "metadata": {
    "execution": {
     "iopub.execute_input": "2023-01-26T15:22:24.297385Z",
     "iopub.status.busy": "2023-01-26T15:22:24.296989Z",
     "iopub.status.idle": "2023-01-26T15:22:24.664046Z",
     "shell.execute_reply": "2023-01-26T15:22:24.662686Z"
    },
    "papermill": {
     "duration": 0.374194,
     "end_time": "2023-01-26T15:22:24.666718",
     "exception": false,
     "start_time": "2023-01-26T15:22:24.292524",
     "status": "completed"
    },
    "tags": []
   },
   "outputs": [
    {
     "data": {
      "image/png": "[encoded data removed]",
      "text/plain": [
       "<Figure size 1080x720 with 1 Axes>"
      ]
     },
     "metadata": {},
     "output_type": "display_data"
    }
   ],
   "source": [
    "plt.figure(figsize=(15,10))\n",
    "sns.barplot(x=game['Genre'], \n",
    "            y=game['Count'])\n",
    "\n",
    "plt.title(\"Top Genres\", fontsize=20)\n",
    "\n",
    "plt.show()\n"
   ]
  },
  {
   "cell_type": "code",
   "execution_count": null,
   "id": "e11b24ad",
   "metadata": {
    "papermill": {
     "duration": 0.003901,
     "end_time": "2023-01-26T15:22:24.674602",
     "exception": false,
     "start_time": "2023-01-26T15:22:24.670701",
     "status": "completed"
    },
    "tags": []
   },
   "outputs": [],
   "source": []
  }
 ],
 "metadata": {
  "kernelspec": {
   "display_name": "Python 3",
   "language": "python",
   "name": "python3"
  },
  "language_info": {
   "codemirror_mode": {
    "name": "ipython",
    "version": 3
   },
   "file_extension": ".py",
   "mimetype": "text/x-python",
   "name": "python",
   "nbconvert_exporter": "python",
   "pygments_lexer": "ipython3",
   "version": "3.7.12"
  },
  "papermill": {
   "default_parameters": {},
   "duration": 11.081443,
   "end_time": "2023-01-26T15:22:25.400783",
   "environment_variables": {},
   "exception": null,
   "input_path": "__notebook__.ipynb",
   "output_path": "__notebook__.ipynb",
   "parameters": {},
   "start_time": "2023-01-26T15:22:14.319340",
   "version": "2.3.4"
  }
 },
 "nbformat": 4,
 "nbformat_minor": 5
}
