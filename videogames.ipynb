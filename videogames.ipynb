{
 "cells": [
  {
   "cell_type": "code",
   "execution_count": 1,
   "id": "a59dba08",
   "metadata": {
    "_cell_guid": "b1076dfc-b9ad-4769-8c92-a6c4dae69d19",
    "_uuid": "8f2839f25d086af736a60e9eeb907d3b93b6e0e5",
    "execution": {
     "iopub.execute_input": "2023-01-26T16:48:48.370674Z",
     "iopub.status.busy": "2023-01-26T16:48:48.370014Z",
     "iopub.status.idle": "2023-01-26T16:48:48.389715Z",
     "shell.execute_reply": "2023-01-26T16:48:48.388461Z"
    },
    "papermill": {
     "duration": 0.031862,
     "end_time": "2023-01-26T16:48:48.394092",
     "exception": false,
     "start_time": "2023-01-26T16:48:48.362230",
     "status": "completed"
    },
    "tags": []
   },
   "outputs": [
    {
     "name": "stdout",
     "output_type": "stream",
     "text": [
      "/kaggle/input/videogamesales/vgsales.csv\n"
     ]
    }
   ],
   "source": [
    "# This Python 3 environment comes with many helpful analytics libraries installed\n",
    "# It is defined by the kaggle/python Docker image: https://github.com/kaggle/docker-python\n",
    "# For example, here's several helpful packages to load\n",
    "\n",
    "import numpy as np # linear algebra\n",
    "import pandas as pd # data processing, CSV file I/O (e.g. pd.read_csv)\n",
    "\n",
    "# Input data files are available in the read-only \"../input/\" directory\n",
    "# For example, running this (by clicking run or pressing Shift+Enter) will list all files under the input directory\n",
    "\n",
    "import os\n",
    "for dirname, _, filenames in os.walk('/kaggle/input'):\n",
    "    for filename in filenames:\n",
    "        print(os.path.join(dirname, filename))\n",
    "\n",
    "# You can write up to 20GB to the current directory (/kaggle/working/) that gets preserved as output when you create a version using \"Save & Run All\" \n",
    "# You can also write temporary files to /kaggle/temp/, but they won't be saved outside of the current session"
   ]
  },
  {
   "cell_type": "code",
   "execution_count": 2,
   "id": "bb485348",
   "metadata": {
    "execution": {
     "iopub.execute_input": "2023-01-26T16:48:48.405934Z",
     "iopub.status.busy": "2023-01-26T16:48:48.405429Z",
     "iopub.status.idle": "2023-01-26T16:48:49.745441Z",
     "shell.execute_reply": "2023-01-26T16:48:49.743827Z"
    },
    "papermill": {
     "duration": 1.349337,
     "end_time": "2023-01-26T16:48:49.748751",
     "exception": false,
     "start_time": "2023-01-26T16:48:48.399414",
     "status": "completed"
    },
    "tags": []
   },
   "outputs": [],
   "source": [
    "#import\n",
    "import numpy as np\n",
    "import pandas as pd\n",
    "import matplotlib.pyplot as plt\n",
    "import seaborn as sns\n",
    "#setting style\n",
    "sns.set_theme(style='whitegrid',palette=\"pastel\")"
   ]
  },
  {
   "cell_type": "code",
   "execution_count": 3,
   "id": "d3fbc312",
   "metadata": {
    "execution": {
     "iopub.execute_input": "2023-01-26T16:48:49.760260Z",
     "iopub.status.busy": "2023-01-26T16:48:49.758991Z",
     "iopub.status.idle": "2023-01-26T16:48:49.876578Z",
     "shell.execute_reply": "2023-01-26T16:48:49.875470Z"
    },
    "papermill": {
     "duration": 0.126322,
     "end_time": "2023-01-26T16:48:49.879326",
     "exception": false,
     "start_time": "2023-01-26T16:48:49.753004",
     "status": "completed"
    },
    "tags": []
   },
   "outputs": [
    {
     "data": {
      "text/html": [
       "<div>\n",
       "<style scoped>\n",
       "    .dataframe tbody tr th:only-of-type {\n",
       "        vertical-align: middle;\n",
       "    }\n",
       "\n",
       "    .dataframe tbody tr th {\n",
       "        vertical-align: top;\n",
       "    }\n",
       "\n",
       "    .dataframe thead th {\n",
       "        text-align: right;\n",
       "    }\n",
       "</style>\n",
       "<table border=\"1\" class=\"dataframe\">\n",
       "  <thead>\n",
       "    <tr style=\"text-align: right;\">\n",
       "      <th></th>\n",
       "      <th>Rank</th>\n",
       "      <th>Name</th>\n",
       "      <th>Platform</th>\n",
       "      <th>Year</th>\n",
       "      <th>Genre</th>\n",
       "      <th>Publisher</th>\n",
       "      <th>NA_Sales</th>\n",
       "      <th>EU_Sales</th>\n",
       "      <th>JP_Sales</th>\n",
       "      <th>Other_Sales</th>\n",
       "      <th>Global_Sales</th>\n",
       "    </tr>\n",
       "  </thead>\n",
       "  <tbody>\n",
       "    <tr>\n",
       "      <th>16595</th>\n",
       "      <td>16598</td>\n",
       "      <td>SCORE International Baja 1000: The Official Game</td>\n",
       "      <td>PS2</td>\n",
       "      <td>2008.0</td>\n",
       "      <td>Racing</td>\n",
       "      <td>Activision</td>\n",
       "      <td>0.00</td>\n",
       "      <td>0.00</td>\n",
       "      <td>0.0</td>\n",
       "      <td>0.0</td>\n",
       "      <td>0.01</td>\n",
       "    </tr>\n",
       "    <tr>\n",
       "      <th>16596</th>\n",
       "      <td>16599</td>\n",
       "      <td>Know How 2</td>\n",
       "      <td>DS</td>\n",
       "      <td>2010.0</td>\n",
       "      <td>Puzzle</td>\n",
       "      <td>7G//AMES</td>\n",
       "      <td>0.00</td>\n",
       "      <td>0.01</td>\n",
       "      <td>0.0</td>\n",
       "      <td>0.0</td>\n",
       "      <td>0.01</td>\n",
       "    </tr>\n",
       "    <tr>\n",
       "      <th>16597</th>\n",
       "      <td>16600</td>\n",
       "      <td>Spirits &amp; Spells</td>\n",
       "      <td>GBA</td>\n",
       "      <td>2003.0</td>\n",
       "      <td>Platform</td>\n",
       "      <td>Wanadoo</td>\n",
       "      <td>0.01</td>\n",
       "      <td>0.00</td>\n",
       "      <td>0.0</td>\n",
       "      <td>0.0</td>\n",
       "      <td>0.01</td>\n",
       "    </tr>\n",
       "  </tbody>\n",
       "</table>\n",
       "</div>"
      ],
      "text/plain": [
       "        Rank                                              Name Platform  \\\n",
       "16595  16598  SCORE International Baja 1000: The Official Game      PS2   \n",
       "16596  16599                                        Know How 2       DS   \n",
       "16597  16600                                  Spirits & Spells      GBA   \n",
       "\n",
       "         Year     Genre   Publisher  NA_Sales  EU_Sales  JP_Sales  \\\n",
       "16595  2008.0    Racing  Activision      0.00      0.00       0.0   \n",
       "16596  2010.0    Puzzle    7G//AMES      0.00      0.01       0.0   \n",
       "16597  2003.0  Platform     Wanadoo      0.01      0.00       0.0   \n",
       "\n",
       "       Other_Sales  Global_Sales  \n",
       "16595          0.0          0.01  \n",
       "16596          0.0          0.01  \n",
       "16597          0.0          0.01  "
      ]
     },
     "execution_count": 3,
     "metadata": {},
     "output_type": "execute_result"
    }
   ],
   "source": [
    "#reading and checking data\n",
    "df = pd.read_csv(\"/kaggle/input/videogamesales/vgsales.csv\")\n",
    "df.tail(3)"
   ]
  },
  {
   "cell_type": "code",
   "execution_count": 4,
   "id": "e0038bd1",
   "metadata": {
    "execution": {
     "iopub.execute_input": "2023-01-26T16:48:49.891633Z",
     "iopub.status.busy": "2023-01-26T16:48:49.890267Z",
     "iopub.status.idle": "2023-01-26T16:48:49.936839Z",
     "shell.execute_reply": "2023-01-26T16:48:49.934732Z"
    },
    "papermill": {
     "duration": 0.056004,
     "end_time": "2023-01-26T16:48:49.940052",
     "exception": false,
     "start_time": "2023-01-26T16:48:49.884048",
     "status": "completed"
    },
    "tags": []
   },
   "outputs": [
    {
     "name": "stdout",
     "output_type": "stream",
     "text": [
      "<class 'pandas.core.frame.DataFrame'>\n",
      "RangeIndex: 16598 entries, 0 to 16597\n",
      "Data columns (total 11 columns):\n",
      " #   Column        Non-Null Count  Dtype  \n",
      "---  ------        --------------  -----  \n",
      " 0   Rank          16598 non-null  int64  \n",
      " 1   Name          16598 non-null  object \n",
      " 2   Platform      16598 non-null  object \n",
      " 3   Year          16327 non-null  float64\n",
      " 4   Genre         16598 non-null  object \n",
      " 5   Publisher     16540 non-null  object \n",
      " 6   NA_Sales      16598 non-null  float64\n",
      " 7   EU_Sales      16598 non-null  float64\n",
      " 8   JP_Sales      16598 non-null  float64\n",
      " 9   Other_Sales   16598 non-null  float64\n",
      " 10  Global_Sales  16598 non-null  float64\n",
      "dtypes: float64(6), int64(1), object(4)\n",
      "memory usage: 1.4+ MB\n",
      "\n",
      "\n",
      "Null Values\n"
     ]
    },
    {
     "data": {
      "text/plain": [
       "Rank              0\n",
       "Name              0\n",
       "Platform          0\n",
       "Year            271\n",
       "Genre             0\n",
       "Publisher        58\n",
       "NA_Sales          0\n",
       "EU_Sales          0\n",
       "JP_Sales          0\n",
       "Other_Sales       0\n",
       "Global_Sales      0\n",
       "dtype: int64"
      ]
     },
     "execution_count": 4,
     "metadata": {},
     "output_type": "execute_result"
    }
   ],
   "source": [
    "#checking data types and null values null values\n",
    "df.info()\n",
    "print(\"\\n\\nNull Values\")\n",
    "df.isnull().sum()"
   ]
  },
  {
   "cell_type": "code",
   "execution_count": 5,
   "id": "7ac96144",
   "metadata": {
    "execution": {
     "iopub.execute_input": "2023-01-26T16:48:49.951781Z",
     "iopub.status.busy": "2023-01-26T16:48:49.951134Z",
     "iopub.status.idle": "2023-01-26T16:48:49.963433Z",
     "shell.execute_reply": "2023-01-26T16:48:49.962180Z"
    },
    "papermill": {
     "duration": 0.021383,
     "end_time": "2023-01-26T16:48:49.966156",
     "exception": false,
     "start_time": "2023-01-26T16:48:49.944773",
     "status": "completed"
    },
    "tags": []
   },
   "outputs": [],
   "source": [
    "#dealing with null values\n",
    "df['Publisher'].replace(np.nan, 'No_Data', inplace=True)\n",
    "\n",
    "#for now will represent missing values with 0\n",
    "df['Year'].replace(np.nan, 0 , inplace=True)\n",
    "df['Year'] = df['Year'].astype(int)"
   ]
  },
  {
   "cell_type": "code",
   "execution_count": 6,
   "id": "bc964950",
   "metadata": {
    "execution": {
     "iopub.execute_input": "2023-01-26T16:48:49.978731Z",
     "iopub.status.busy": "2023-01-26T16:48:49.977438Z",
     "iopub.status.idle": "2023-01-26T16:48:50.000749Z",
     "shell.execute_reply": "2023-01-26T16:48:49.998697Z"
    },
    "papermill": {
     "duration": 0.03448,
     "end_time": "2023-01-26T16:48:50.005437",
     "exception": false,
     "start_time": "2023-01-26T16:48:49.970957",
     "status": "completed"
    },
    "tags": []
   },
   "outputs": [
    {
     "name": "stdout",
     "output_type": "stream",
     "text": [
      "<class 'pandas.core.frame.DataFrame'>\n",
      "RangeIndex: 16598 entries, 0 to 16597\n",
      "Data columns (total 11 columns):\n",
      " #   Column        Non-Null Count  Dtype  \n",
      "---  ------        --------------  -----  \n",
      " 0   Rank          16598 non-null  int64  \n",
      " 1   Name          16598 non-null  object \n",
      " 2   Platform      16598 non-null  object \n",
      " 3   Year          16598 non-null  int64  \n",
      " 4   Genre         16598 non-null  object \n",
      " 5   Publisher     16598 non-null  object \n",
      " 6   NA_Sales      16598 non-null  float64\n",
      " 7   EU_Sales      16598 non-null  float64\n",
      " 8   JP_Sales      16598 non-null  float64\n",
      " 9   Other_Sales   16598 non-null  float64\n",
      " 10  Global_Sales  16598 non-null  float64\n",
      "dtypes: float64(5), int64(2), object(4)\n",
      "memory usage: 1.4+ MB\n"
     ]
    }
   ],
   "source": [
    "df.info()"
   ]
  },
  {
   "cell_type": "code",
   "execution_count": 7,
   "id": "9944fb18",
   "metadata": {
    "execution": {
     "iopub.execute_input": "2023-01-26T16:48:50.017813Z",
     "iopub.status.busy": "2023-01-26T16:48:50.017239Z",
     "iopub.status.idle": "2023-01-26T16:48:50.488137Z",
     "shell.execute_reply": "2023-01-26T16:48:50.486748Z"
    },
    "papermill": {
     "duration": 0.480522,
     "end_time": "2023-01-26T16:48:50.491205",
     "exception": false,
     "start_time": "2023-01-26T16:48:50.010683",
     "status": "completed"
    },
    "tags": []
   },
   "outputs": [
    {
     "data": {
      "image/png": "[encoded data removed]",
      "text/plain": [
       "<Figure size 1080x720 with 1 Axes>"
      ]
     },
     "metadata": {},
     "output_type": "display_data"
    }
   ],
   "source": [
    "#plotting top Genres\n",
    "#counting values\n",
    "game = df['Genre'].value_counts().rename_axis('Genre').reset_index(name='Count')\n",
    "\n",
    "#plotting\n",
    "plt.figure(figsize=(15,10))\n",
    "ax = sns.barplot(x=game['Genre'], \n",
    "                 y=game['Count'],\n",
    "                 data=game)\n",
    "\n",
    "\n",
    "for i in ax.containers:\n",
    "    ax.bar_label(i,)\n",
    "    \n",
    "plt.title(\"Top Genres\", fontsize=20)\n",
    "plt.show()\n"
   ]
  },
  {
   "cell_type": "markdown",
   "id": "0261b2eb",
   "metadata": {
    "papermill": {
     "duration": 0.004995,
     "end_time": "2023-01-26T16:48:50.501713",
     "exception": false,
     "start_time": "2023-01-26T16:48:50.496718",
     "status": "completed"
    },
    "tags": []
   },
   "source": [
    "The most famouse Genre is ***Action*** followed by ***Sports*** and ***Misc***"
   ]
  },
  {
   "cell_type": "code",
   "execution_count": 8,
   "id": "2cab61a8",
   "metadata": {
    "execution": {
     "iopub.execute_input": "2023-01-26T16:48:50.515269Z",
     "iopub.status.busy": "2023-01-26T16:48:50.514032Z",
     "iopub.status.idle": "2023-01-26T16:48:50.928885Z",
     "shell.execute_reply": "2023-01-26T16:48:50.927489Z"
    },
    "papermill": {
     "duration": 0.425056,
     "end_time": "2023-01-26T16:48:50.932147",
     "exception": false,
     "start_time": "2023-01-26T16:48:50.507091",
     "status": "completed"
    },
    "tags": []
   },
   "outputs": [
    {
     "name": "stderr",
     "output_type": "stream",
     "text": [
      "/opt/conda/lib/python3.7/site-packages/seaborn/_decorators.py:43: FutureWarning: Pass the following variables as keyword args: x, y. From version 0.12, the only valid positional argument will be `data`, and passing other arguments without an explicit keyword will result in an error or misinterpretation.\n",
      "  FutureWarning\n"
     ]
    },
    {
     "data": {
      "image/png": "[encoded data removed]",
      "text/plain": [
       "<Figure size 1080x720 with 1 Axes>"
      ]
     },
     "metadata": {},
     "output_type": "display_data"
    }
   ],
   "source": [
    "#plotting top10 Publisher\n",
    "#counting values and making dataframe out of it\n",
    "pub = df['Publisher'].value_counts().rename_axis('Publisher').reset_index(name=\"Count\")\n",
    "pub1 = pub.head(10).copy()\n",
    "\n",
    "#plotting\n",
    "plt.figure(figsize=(15,10))\n",
    "ax = sns.barplot('Publisher', \n",
    "                 'Count',\n",
    "                  data=pub1,)\n",
    "\n",
    "for i in ax.containers:\n",
    "    ax.bar_label(i,)\n",
    "    \n",
    "plt.xticks(rotation=90)\n",
    "\n",
    "plt.title(\"Top10 Game Publisher\", fontsize=20)\n",
    "plt.show()"
   ]
  },
  {
   "cell_type": "markdown",
   "id": "2cf54625",
   "metadata": {
    "papermill": {
     "duration": 0.005667,
     "end_time": "2023-01-26T16:48:50.944053",
     "exception": false,
     "start_time": "2023-01-26T16:48:50.938386",
     "status": "completed"
    },
    "tags": []
   },
   "source": [
    "\n",
    "***EA*** has published most ammout of games (1355 total) followed by ***Activision*** and ***Namco Bandal Games***"
   ]
  },
  {
   "cell_type": "code",
   "execution_count": 9,
   "id": "1e4ee7a3",
   "metadata": {
    "execution": {
     "iopub.execute_input": "2023-01-26T16:48:50.959362Z",
     "iopub.status.busy": "2023-01-26T16:48:50.958458Z",
     "iopub.status.idle": "2023-01-26T16:48:50.980876Z",
     "shell.execute_reply": "2023-01-26T16:48:50.979345Z"
    },
    "papermill": {
     "duration": 0.033633,
     "end_time": "2023-01-26T16:48:50.983859",
     "exception": false,
     "start_time": "2023-01-26T16:48:50.950226",
     "status": "completed"
    },
    "tags": []
   },
   "outputs": [
    {
     "data": {
      "text/plain": [
       "<Figure size 720x1080 with 0 Axes>"
      ]
     },
     "execution_count": 9,
     "metadata": {},
     "output_type": "execute_result"
    },
    {
     "data": {
      "text/plain": [
       "<Figure size 720x1080 with 0 Axes>"
      ]
     },
     "metadata": {},
     "output_type": "display_data"
    }
   ],
   "source": [
    "#counting values for year and plotting\n",
    "yea = df['Year'].value_counts(ascending=False).rename_axis('Year').sort_index().reset_index(name=\"Count\")\n",
    "#droping first row because it represents missing values\n",
    "year = yea.iloc[1:]\n",
    "#aternative way\n",
    "#df.drop(index=df.index[0], axis=0, inplace=True)\n",
    "\n",
    "#plotting games published per year\n",
    "plt.figure(figsize=(10,15))\n",
    "# ax = sns.stripplot(data=year, x='Year', y=\"Count\", hue='Year',)"
   ]
  },
  {
   "cell_type": "code",
   "execution_count": null,
   "id": "f0e63a7d",
   "metadata": {
    "papermill": {
     "duration": 0.005957,
     "end_time": "2023-01-26T16:48:50.996193",
     "exception": false,
     "start_time": "2023-01-26T16:48:50.990236",
     "status": "completed"
    },
    "tags": []
   },
   "outputs": [],
   "source": []
  }
 ],
 "metadata": {
  "kernelspec": {
   "display_name": "Python 3",
   "language": "python",
   "name": "python3"
  },
  "language_info": {
   "codemirror_mode": {
    "name": "ipython",
    "version": 3
   },
   "file_extension": ".py",
   "mimetype": "text/x-python",
   "name": "python",
   "nbconvert_exporter": "python",
   "pygments_lexer": "ipython3",
   "version": "3.7.12"
  },
  "papermill": {
   "default_parameters": {},
   "duration": 16.698246,
   "end_time": "2023-01-26T16:48:52.232082",
   "environment_variables": {},
   "exception": null,
   "input_path": "__notebook__.ipynb",
   "output_path": "__notebook__.ipynb",
   "parameters": {},
   "start_time": "2023-01-26T16:48:35.533836",
   "version": "2.3.4"
  }
 },
 "nbformat": 4,
 "nbformat_minor": 5
}
