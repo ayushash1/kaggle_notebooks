{
 "cells": [
  {
   "cell_type": "code",
   "execution_count": null,
   "id": "b0f27223",
   "metadata": {
    "papermill": {
     "duration": 0.006593,
     "end_time": "2023-01-23T06:08:20.380436",
     "exception": false,
     "start_time": "2023-01-23T06:08:20.373843",
     "status": "completed"
    },
    "tags": []
   },
   "outputs": [],
   "source": []
  },
  {
   "cell_type": "code",
   "execution_count": 1,
   "id": "770f0cfe",
   "metadata": {
    "_cell_guid": "b1076dfc-b9ad-4769-8c92-a6c4dae69d19",
    "_uuid": "8f2839f25d086af736a60e9eeb907d3b93b6e0e5",
    "execution": {
     "iopub.execute_input": "2023-01-23T06:08:20.394420Z",
     "iopub.status.busy": "2023-01-23T06:08:20.393530Z",
     "iopub.status.idle": "2023-01-23T06:08:20.412238Z",
     "shell.execute_reply": "2023-01-23T06:08:20.411291Z"
    },
    "jupyter": {
     "source_hidden": true
    },
    "papermill": {
     "duration": 0.0289,
     "end_time": "2023-01-23T06:08:20.414913",
     "exception": false,
     "start_time": "2023-01-23T06:08:20.386013",
     "status": "completed"
    },
    "tags": []
   },
   "outputs": [
    {
     "name": "stdout",
     "output_type": "stream",
     "text": [
      "/kaggle/input/netflix-shows/netflix_titles.csv\n"
     ]
    }
   ],
   "source": [
    "# This Python 3 environment comes with many helpful analytics libraries installed\n",
    "# It is defined by the kaggle/python Docker image: https://github.com/kaggle/docker-python\n",
    "# For example, here's several helpful packages to load\n",
    "\n",
    "import numpy as np # linear algebra\n",
    "import pandas as pd # data processing, CSV file I/O (e.g. pd.read_csv)\n",
    "\n",
    "# Input data files are available in the read-only \"../input/\" directory\n",
    "# For example, running this (by clicking run or pressing Shift+Enter) will list all files under the input directory\n",
    "\n",
    "import os\n",
    "for dirname, _, filenames in os.walk('/kaggle/input'):\n",
    "    for filename in filenames:\n",
    "        print(os.path.join(dirname, filename))\n",
    "\n",
    "# You can write up to 20GB to the current directory (/kaggle/working/) that gets preserved as output when you create a version using \"Save & Run All\" \n",
    "# You can also write temporary files to /kaggle/temp/, but they won't be saved outside of the current session"
   ]
  },
  {
   "cell_type": "code",
   "execution_count": 2,
   "id": "bd92b884",
   "metadata": {
    "execution": {
     "iopub.execute_input": "2023-01-23T06:08:20.427962Z",
     "iopub.status.busy": "2023-01-23T06:08:20.427155Z",
     "iopub.status.idle": "2023-01-23T06:08:22.176754Z",
     "shell.execute_reply": "2023-01-23T06:08:22.175836Z"
    },
    "papermill": {
     "duration": 1.758978,
     "end_time": "2023-01-23T06:08:22.179426",
     "exception": false,
     "start_time": "2023-01-23T06:08:20.420448",
     "status": "completed"
    },
    "tags": []
   },
   "outputs": [
    {
     "name": "stderr",
     "output_type": "stream",
     "text": [
      "/opt/conda/lib/python3.7/site-packages/geopandas/_compat.py:115: UserWarning: The Shapely GEOS version (3.9.1-CAPI-1.14.2) is incompatible with the GEOS version PyGEOS was compiled with (3.10.4-CAPI-1.16.2). Conversions between both will be slow.\n",
      "  shapely_geos_version, geos_capi_version_string\n"
     ]
    }
   ],
   "source": [
    "#import\n",
    "import numpy as np\n",
    "import pandas as pd\n",
    "import matplotlib.pyplot as plt\n",
    "import seaborn as sns\n",
    "import geopandas as gpd"
   ]
  },
  {
   "cell_type": "code",
   "execution_count": 3,
   "id": "70c118c4",
   "metadata": {
    "execution": {
     "iopub.execute_input": "2023-01-23T06:08:22.193474Z",
     "iopub.status.busy": "2023-01-23T06:08:22.192379Z",
     "iopub.status.idle": "2023-01-23T06:08:22.349185Z",
     "shell.execute_reply": "2023-01-23T06:08:22.347726Z"
    },
    "papermill": {
     "duration": 0.166562,
     "end_time": "2023-01-23T06:08:22.351896",
     "exception": false,
     "start_time": "2023-01-23T06:08:22.185334",
     "status": "completed"
    },
    "tags": []
   },
   "outputs": [
    {
     "data": {
      "text/html": [
       "<div>\n",
       "<style scoped>\n",
       "    .dataframe tbody tr th:only-of-type {\n",
       "        vertical-align: middle;\n",
       "    }\n",
       "\n",
       "    .dataframe tbody tr th {\n",
       "        vertical-align: top;\n",
       "    }\n",
       "\n",
       "    .dataframe thead th {\n",
       "        text-align: right;\n",
       "    }\n",
       "</style>\n",
       "<table border=\"1\" class=\"dataframe\">\n",
       "  <thead>\n",
       "    <tr style=\"text-align: right;\">\n",
       "      <th></th>\n",
       "      <th>show_id</th>\n",
       "      <th>type</th>\n",
       "      <th>title</th>\n",
       "      <th>director</th>\n",
       "      <th>cast</th>\n",
       "      <th>country</th>\n",
       "      <th>date_added</th>\n",
       "      <th>release_year</th>\n",
       "      <th>rating</th>\n",
       "      <th>duration</th>\n",
       "      <th>listed_in</th>\n",
       "      <th>description</th>\n",
       "    </tr>\n",
       "  </thead>\n",
       "  <tbody>\n",
       "    <tr>\n",
       "      <th>0</th>\n",
       "      <td>s1</td>\n",
       "      <td>Movie</td>\n",
       "      <td>Dick Johnson Is Dead</td>\n",
       "      <td>Kirsten Johnson</td>\n",
       "      <td>NaN</td>\n",
       "      <td>United States</td>\n",
       "      <td>September 25, 2021</td>\n",
       "      <td>2020</td>\n",
       "      <td>PG-13</td>\n",
       "      <td>90 min</td>\n",
       "      <td>Documentaries</td>\n",
       "      <td>As her father nears the end of his life, filmm...</td>\n",
       "    </tr>\n",
       "    <tr>\n",
       "      <th>1</th>\n",
       "      <td>s2</td>\n",
       "      <td>TV Show</td>\n",
       "      <td>Blood &amp; Water</td>\n",
       "      <td>NaN</td>\n",
       "      <td>Ama Qamata, Khosi Ngema, Gail Mabalane, Thaban...</td>\n",
       "      <td>South Africa</td>\n",
       "      <td>September 24, 2021</td>\n",
       "      <td>2021</td>\n",
       "      <td>TV-MA</td>\n",
       "      <td>2 Seasons</td>\n",
       "      <td>International TV Shows, TV Dramas, TV Mysteries</td>\n",
       "      <td>After crossing paths at a party, a Cape Town t...</td>\n",
       "    </tr>\n",
       "    <tr>\n",
       "      <th>2</th>\n",
       "      <td>s3</td>\n",
       "      <td>TV Show</td>\n",
       "      <td>Ganglands</td>\n",
       "      <td>Julien Leclercq</td>\n",
       "      <td>Sami Bouajila, Tracy Gotoas, Samuel Jouy, Nabi...</td>\n",
       "      <td>NaN</td>\n",
       "      <td>September 24, 2021</td>\n",
       "      <td>2021</td>\n",
       "      <td>TV-MA</td>\n",
       "      <td>1 Season</td>\n",
       "      <td>Crime TV Shows, International TV Shows, TV Act...</td>\n",
       "      <td>To protect his family from a powerful drug lor...</td>\n",
       "    </tr>\n",
       "  </tbody>\n",
       "</table>\n",
       "</div>"
      ],
      "text/plain": [
       "  show_id     type                 title         director  \\\n",
       "0      s1    Movie  Dick Johnson Is Dead  Kirsten Johnson   \n",
       "1      s2  TV Show         Blood & Water              NaN   \n",
       "2      s3  TV Show             Ganglands  Julien Leclercq   \n",
       "\n",
       "                                                cast        country  \\\n",
       "0                                                NaN  United States   \n",
       "1  Ama Qamata, Khosi Ngema, Gail Mabalane, Thaban...   South Africa   \n",
       "2  Sami Bouajila, Tracy Gotoas, Samuel Jouy, Nabi...            NaN   \n",
       "\n",
       "           date_added  release_year rating   duration  \\\n",
       "0  September 25, 2021          2020  PG-13     90 min   \n",
       "1  September 24, 2021          2021  TV-MA  2 Seasons   \n",
       "2  September 24, 2021          2021  TV-MA   1 Season   \n",
       "\n",
       "                                           listed_in  \\\n",
       "0                                      Documentaries   \n",
       "1    International TV Shows, TV Dramas, TV Mysteries   \n",
       "2  Crime TV Shows, International TV Shows, TV Act...   \n",
       "\n",
       "                                         description  \n",
       "0  As her father nears the end of his life, filmm...  \n",
       "1  After crossing paths at a party, a Cape Town t...  \n",
       "2  To protect his family from a powerful drug lor...  "
      ]
     },
     "execution_count": 3,
     "metadata": {},
     "output_type": "execute_result"
    }
   ],
   "source": [
    "#read data\n",
    "df = pd.read_csv(\"/kaggle/input/netflix-shows/netflix_titles.csv\")\n",
    "df.head(3)"
   ]
  },
  {
   "cell_type": "code",
   "execution_count": 4,
   "id": "b2024782",
   "metadata": {
    "execution": {
     "iopub.execute_input": "2023-01-23T06:08:22.367124Z",
     "iopub.status.busy": "2023-01-23T06:08:22.365746Z",
     "iopub.status.idle": "2023-01-23T06:08:22.402158Z",
     "shell.execute_reply": "2023-01-23T06:08:22.400308Z"
    },
    "papermill": {
     "duration": 0.046717,
     "end_time": "2023-01-23T06:08:22.405207",
     "exception": false,
     "start_time": "2023-01-23T06:08:22.358490",
     "status": "completed"
    },
    "tags": []
   },
   "outputs": [
    {
     "name": "stdout",
     "output_type": "stream",
     "text": [
      "<class 'pandas.core.frame.DataFrame'>\n",
      "RangeIndex: 8807 entries, 0 to 8806\n",
      "Data columns (total 12 columns):\n",
      " #   Column        Non-Null Count  Dtype \n",
      "---  ------        --------------  ----- \n",
      " 0   show_id       8807 non-null   object\n",
      " 1   type          8807 non-null   object\n",
      " 2   title         8807 non-null   object\n",
      " 3   director      6173 non-null   object\n",
      " 4   cast          7982 non-null   object\n",
      " 5   country       7976 non-null   object\n",
      " 6   date_added    8797 non-null   object\n",
      " 7   release_year  8807 non-null   int64 \n",
      " 8   rating        8803 non-null   object\n",
      " 9   duration      8804 non-null   object\n",
      " 10  listed_in     8807 non-null   object\n",
      " 11  description   8807 non-null   object\n",
      "dtypes: int64(1), object(11)\n",
      "memory usage: 825.8+ KB\n"
     ]
    }
   ],
   "source": [
    "#checking datatype and null ifno\n",
    "df.info()"
   ]
  },
  {
   "cell_type": "code",
   "execution_count": 5,
   "id": "1f662bfa",
   "metadata": {
    "execution": {
     "iopub.execute_input": "2023-01-23T06:08:22.419397Z",
     "iopub.status.busy": "2023-01-23T06:08:22.418606Z",
     "iopub.status.idle": "2023-01-23T06:08:23.626191Z",
     "shell.execute_reply": "2023-01-23T06:08:23.624960Z"
    },
    "papermill": {
     "duration": 1.217931,
     "end_time": "2023-01-23T06:08:23.629006",
     "exception": false,
     "start_time": "2023-01-23T06:08:22.411075",
     "status": "completed"
    },
    "tags": []
   },
   "outputs": [
    {
     "data": {
      "text/plain": [
       "<AxesSubplot:>"
      ]
     },
     "execution_count": 5,
     "metadata": {},
     "output_type": "execute_result"
    },
    {
     "data": {
      "image/png": "[encoded data removed]",
      "text/plain": [
       "<Figure size 1440x720 with 1 Axes>"
      ]
     },
     "metadata": {
      "needs_background": "light"
     },
     "output_type": "display_data"
    }
   ],
   "source": [
    "fig = plt.figure(figsize=(20,10))\n",
    "sns.heatmap(df.isnull(), cbar=False)"
   ]
  },
  {
   "cell_type": "markdown",
   "id": "3a62b567",
   "metadata": {
    "papermill": {
     "duration": 0.006677,
     "end_time": "2023-01-23T06:08:23.642846",
     "exception": false,
     "start_time": "2023-01-23T06:08:23.636169",
     "status": "completed"
    },
    "tags": []
   },
   "source": [
    "As we can see there is a lot of null values in **director, cast and country column**"
   ]
  },
  {
   "cell_type": "code",
   "execution_count": 6,
   "id": "0bd4527a",
   "metadata": {
    "execution": {
     "iopub.execute_input": "2023-01-23T06:08:23.659255Z",
     "iopub.status.busy": "2023-01-23T06:08:23.658251Z",
     "iopub.status.idle": "2023-01-23T06:08:23.915023Z",
     "shell.execute_reply": "2023-01-23T06:08:23.913495Z"
    },
    "papermill": {
     "duration": 0.268326,
     "end_time": "2023-01-23T06:08:23.918119",
     "exception": false,
     "start_time": "2023-01-23T06:08:23.649793",
     "status": "completed"
    },
    "tags": []
   },
   "outputs": [],
   "source": [
    "#Data Cleaning, Dealing with null values and changing to right datatype\n",
    "df['date_added'] = pd.to_datetime(df['date_added'])\n",
    "df['year_added'] = df['date_added'].dt.year\n",
    "df['director'].replace(np.nan, 'No Data',inplace  = True)\n",
    "df['country'].replace(np.nan, 'No Data',inplace  = True)\n",
    "df['cast'].replace(np.nan, 'No Data',inplace  = True)\n",
    "df.drop_duplicates(inplace= True)"
   ]
  },
  {
   "cell_type": "code",
   "execution_count": 7,
   "id": "32751778",
   "metadata": {
    "execution": {
     "iopub.execute_input": "2023-01-23T06:08:23.934802Z",
     "iopub.status.busy": "2023-01-23T06:08:23.934314Z",
     "iopub.status.idle": "2023-01-23T06:08:23.947034Z",
     "shell.execute_reply": "2023-01-23T06:08:23.945735Z"
    },
    "papermill": {
     "duration": 0.02419,
     "end_time": "2023-01-23T06:08:23.950048",
     "exception": false,
     "start_time": "2023-01-23T06:08:23.925858",
     "status": "completed"
    },
    "tags": []
   },
   "outputs": [],
   "source": [
    "netflix_shows=df[df['type']=='TV Show']\n",
    "netflix_movies=df[df['type']=='Movie']"
   ]
  },
  {
   "cell_type": "code",
   "execution_count": 8,
   "id": "e1827a58",
   "metadata": {
    "execution": {
     "iopub.execute_input": "2023-01-23T06:08:23.967125Z",
     "iopub.status.busy": "2023-01-23T06:08:23.966631Z",
     "iopub.status.idle": "2023-01-23T06:08:24.226412Z",
     "shell.execute_reply": "2023-01-23T06:08:24.225454Z"
    },
    "papermill": {
     "duration": 0.270368,
     "end_time": "2023-01-23T06:08:24.228939",
     "exception": false,
     "start_time": "2023-01-23T06:08:23.958571",
     "status": "completed"
    },
    "tags": []
   },
   "outputs": [
    {
     "data": {
      "image/png": "[encoded data removed]",
      "text/plain": [
       "<Figure size 720x720 with 1 Axes>"
      ]
     },
     "metadata": {},
     "output_type": "display_data"
    }
   ],
   "source": [
    "#compairing Movies and TV Show\n",
    "cat = df['type'].value_counts().rename_axis('type').reset_index(name='counts')\n",
    "fig = plt.figure(figsize=(10,10))\n",
    "# plt.bar(cat['type'],cat['counts'])\n",
    "plt.pie(x=cat['counts'], labels=cat['type'], autopct='%1.2f%%')\n",
    "plt.legend()\n",
    "plt.title('Movies and TV Shows Comparison', fontfamily='serif',fontweight='bold',fontsize=20)\n",
    "plt.show()"
   ]
  },
  {
   "cell_type": "markdown",
   "id": "47ed26ab",
   "metadata": {
    "papermill": {
     "duration": 0.007004,
     "end_time": "2023-01-23T06:08:24.243118",
     "exception": false,
     "start_time": "2023-01-23T06:08:24.236114",
     "status": "completed"
    },
    "tags": []
   },
   "source": [
    "Almost **70% Movies** and **30%TV Shows**"
   ]
  },
  {
   "cell_type": "code",
   "execution_count": 9,
   "id": "be8405ff",
   "metadata": {
    "execution": {
     "iopub.execute_input": "2023-01-23T06:08:24.259970Z",
     "iopub.status.busy": "2023-01-23T06:08:24.259156Z",
     "iopub.status.idle": "2023-01-23T06:08:24.274024Z",
     "shell.execute_reply": "2023-01-23T06:08:24.272896Z"
    },
    "papermill": {
     "duration": 0.026493,
     "end_time": "2023-01-23T06:08:24.276911",
     "exception": false,
     "start_time": "2023-01-23T06:08:24.250418",
     "status": "completed"
    },
    "tags": []
   },
   "outputs": [],
   "source": [
    "#in some rows there are more then one one values in country column, it is not good\n",
    "#to deal with this problem, going to make a new column wiht the first country\n",
    "\n",
    "df['first_country'] = df['country'].apply(lambda x: x.split(\",\")[0])\n",
    "countries = df['first_country'].value_counts().rename_axis('country').reset_index(name='counts')\n",
    "\n",
    "#droping no data values\n",
    "countries.drop(2, axis=0, inplace=True)"
   ]
  },
  {
   "cell_type": "code",
   "execution_count": 10,
   "id": "aae7bef3",
   "metadata": {
    "execution": {
     "iopub.execute_input": "2023-01-23T06:08:24.294522Z",
     "iopub.status.busy": "2023-01-23T06:08:24.293715Z",
     "iopub.status.idle": "2023-01-23T06:08:24.592269Z",
     "shell.execute_reply": "2023-01-23T06:08:24.590976Z"
    },
    "papermill": {
     "duration": 0.310351,
     "end_time": "2023-01-23T06:08:24.595089",
     "exception": false,
     "start_time": "2023-01-23T06:08:24.284738",
     "status": "completed"
    },
    "tags": []
   },
   "outputs": [
    {
     "data": {
      "image/png": "[encoded data removed]",
      "text/plain": [
       "<Figure size 1440x576 with 1 Axes>"
      ]
     },
     "metadata": {
      "needs_background": "light"
     },
     "output_type": "display_data"
    }
   ],
   "source": [
    "#plotting top 10 countries\n",
    "fig = plt.figure(figsize=(20,8))\n",
    "sns.barplot(x=countries['country'].head(10),y=countries['counts'],edgecolor=\"black\")\n",
    "plt.title(\"Top 10 Countries on Netflix\", fontfamily='serif',fontweight='bold',fontsize=20)\n",
    "plt.show()"
   ]
  },
  {
   "cell_type": "markdown",
   "id": "c53f3a41",
   "metadata": {
    "papermill": {
     "duration": 0.007802,
     "end_time": "2023-01-23T06:08:24.611203",
     "exception": false,
     "start_time": "2023-01-23T06:08:24.603401",
     "status": "completed"
    },
    "tags": []
   },
   "source": [
    "**United States** tops the chart followed by India and United Kingdom  \n",
    "US is almost triple the ammount copaired to India"
   ]
  },
  {
   "cell_type": "code",
   "execution_count": 11,
   "id": "4aa8bc3c",
   "metadata": {
    "execution": {
     "iopub.execute_input": "2023-01-23T06:08:24.628965Z",
     "iopub.status.busy": "2023-01-23T06:08:24.628250Z",
     "iopub.status.idle": "2023-01-23T06:08:24.644398Z",
     "shell.execute_reply": "2023-01-23T06:08:24.642977Z"
    },
    "papermill": {
     "duration": 0.02812,
     "end_time": "2023-01-23T06:08:24.647080",
     "exception": false,
     "start_time": "2023-01-23T06:08:24.618960",
     "status": "completed"
    },
    "tags": []
   },
   "outputs": [
    {
     "data": {
      "text/html": [
       "<div>\n",
       "<style scoped>\n",
       "    .dataframe tbody tr th:only-of-type {\n",
       "        vertical-align: middle;\n",
       "    }\n",
       "\n",
       "    .dataframe tbody tr th {\n",
       "        vertical-align: top;\n",
       "    }\n",
       "\n",
       "    .dataframe thead th {\n",
       "        text-align: right;\n",
       "    }\n",
       "</style>\n",
       "<table border=\"1\" class=\"dataframe\">\n",
       "  <thead>\n",
       "    <tr style=\"text-align: right;\">\n",
       "      <th></th>\n",
       "      <th>rating</th>\n",
       "      <th>counts</th>\n",
       "    </tr>\n",
       "  </thead>\n",
       "  <tbody>\n",
       "    <tr>\n",
       "      <th>0</th>\n",
       "      <td>TV-MA</td>\n",
       "      <td>2062</td>\n",
       "    </tr>\n",
       "    <tr>\n",
       "      <th>1</th>\n",
       "      <td>TV-14</td>\n",
       "      <td>1427</td>\n",
       "    </tr>\n",
       "    <tr>\n",
       "      <th>2</th>\n",
       "      <td>R</td>\n",
       "      <td>797</td>\n",
       "    </tr>\n",
       "    <tr>\n",
       "      <th>3</th>\n",
       "      <td>TV-PG</td>\n",
       "      <td>540</td>\n",
       "    </tr>\n",
       "    <tr>\n",
       "      <th>4</th>\n",
       "      <td>PG-13</td>\n",
       "      <td>490</td>\n",
       "    </tr>\n",
       "    <tr>\n",
       "      <th>5</th>\n",
       "      <td>PG</td>\n",
       "      <td>287</td>\n",
       "    </tr>\n",
       "    <tr>\n",
       "      <th>6</th>\n",
       "      <td>TV-Y7</td>\n",
       "      <td>139</td>\n",
       "    </tr>\n",
       "    <tr>\n",
       "      <th>7</th>\n",
       "      <td>TV-Y</td>\n",
       "      <td>131</td>\n",
       "    </tr>\n",
       "    <tr>\n",
       "      <th>8</th>\n",
       "      <td>TV-G</td>\n",
       "      <td>126</td>\n",
       "    </tr>\n",
       "    <tr>\n",
       "      <th>9</th>\n",
       "      <td>NR</td>\n",
       "      <td>75</td>\n",
       "    </tr>\n",
       "    <tr>\n",
       "      <th>10</th>\n",
       "      <td>G</td>\n",
       "      <td>41</td>\n",
       "    </tr>\n",
       "    <tr>\n",
       "      <th>11</th>\n",
       "      <td>TV-Y7-FV</td>\n",
       "      <td>5</td>\n",
       "    </tr>\n",
       "    <tr>\n",
       "      <th>12</th>\n",
       "      <td>NC-17</td>\n",
       "      <td>3</td>\n",
       "    </tr>\n",
       "    <tr>\n",
       "      <th>13</th>\n",
       "      <td>UR</td>\n",
       "      <td>3</td>\n",
       "    </tr>\n",
       "    <tr>\n",
       "      <th>14</th>\n",
       "      <td>74 min</td>\n",
       "      <td>1</td>\n",
       "    </tr>\n",
       "    <tr>\n",
       "      <th>15</th>\n",
       "      <td>84 min</td>\n",
       "      <td>1</td>\n",
       "    </tr>\n",
       "    <tr>\n",
       "      <th>16</th>\n",
       "      <td>66 min</td>\n",
       "      <td>1</td>\n",
       "    </tr>\n",
       "  </tbody>\n",
       "</table>\n",
       "</div>"
      ],
      "text/plain": [
       "      rating  counts\n",
       "0      TV-MA    2062\n",
       "1      TV-14    1427\n",
       "2          R     797\n",
       "3      TV-PG     540\n",
       "4      PG-13     490\n",
       "5         PG     287\n",
       "6      TV-Y7     139\n",
       "7       TV-Y     131\n",
       "8       TV-G     126\n",
       "9         NR      75\n",
       "10         G      41\n",
       "11  TV-Y7-FV       5\n",
       "12     NC-17       3\n",
       "13        UR       3\n",
       "14    74 min       1\n",
       "15    84 min       1\n",
       "16    66 min       1"
      ]
     },
     "execution_count": 11,
     "metadata": {},
     "output_type": "execute_result"
    }
   ],
   "source": [
    "rating = netflix_movies['rating'].value_counts().rename_axis('rating').reset_index(name='counts')\n",
    "rating"
   ]
  },
  {
   "cell_type": "code",
   "execution_count": 12,
   "id": "560205da",
   "metadata": {
    "execution": {
     "iopub.execute_input": "2023-01-23T06:08:24.664942Z",
     "iopub.status.busy": "2023-01-23T06:08:24.663724Z",
     "iopub.status.idle": "2023-01-23T06:08:24.972675Z",
     "shell.execute_reply": "2023-01-23T06:08:24.971446Z"
    },
    "papermill": {
     "duration": 0.320682,
     "end_time": "2023-01-23T06:08:24.975438",
     "exception": false,
     "start_time": "2023-01-23T06:08:24.654756",
     "status": "completed"
    },
    "tags": []
   },
   "outputs": [
    {
     "data": {
      "image/png": "[encoded data removed]",
      "text/plain": [
       "<Figure size 1440x576 with 1 Axes>"
      ]
     },
     "metadata": {
      "needs_background": "light"
     },
     "output_type": "display_data"
    }
   ],
   "source": [
    "#plotting top 10 rating by counts\n",
    "fig = plt.figure(figsize=(20,8))\n",
    "sns.barplot(x=rating['rating'].head(10),y=rating['counts'], edgecolor=\"black\")\n",
    "plt.title(\"Top 10 Ratings(Movies)\", fontfamily='serif',fontweight='bold',fontsize=20)\n",
    "plt.show()"
   ]
  },
  {
   "cell_type": "code",
   "execution_count": 13,
   "id": "66b31956",
   "metadata": {
    "execution": {
     "iopub.execute_input": "2023-01-23T06:08:24.993172Z",
     "iopub.status.busy": "2023-01-23T06:08:24.992745Z",
     "iopub.status.idle": "2023-01-23T06:08:25.006975Z",
     "shell.execute_reply": "2023-01-23T06:08:25.005611Z"
    },
    "papermill": {
     "duration": 0.025726,
     "end_time": "2023-01-23T06:08:25.009164",
     "exception": false,
     "start_time": "2023-01-23T06:08:24.983438",
     "status": "completed"
    },
    "tags": []
   },
   "outputs": [
    {
     "data": {
      "text/html": [
       "<div>\n",
       "<style scoped>\n",
       "    .dataframe tbody tr th:only-of-type {\n",
       "        vertical-align: middle;\n",
       "    }\n",
       "\n",
       "    .dataframe tbody tr th {\n",
       "        vertical-align: top;\n",
       "    }\n",
       "\n",
       "    .dataframe thead th {\n",
       "        text-align: right;\n",
       "    }\n",
       "</style>\n",
       "<table border=\"1\" class=\"dataframe\">\n",
       "  <thead>\n",
       "    <tr style=\"text-align: right;\">\n",
       "      <th></th>\n",
       "      <th>rating</th>\n",
       "      <th>counts</th>\n",
       "    </tr>\n",
       "  </thead>\n",
       "  <tbody>\n",
       "    <tr>\n",
       "      <th>0</th>\n",
       "      <td>TV-MA</td>\n",
       "      <td>1145</td>\n",
       "    </tr>\n",
       "    <tr>\n",
       "      <th>1</th>\n",
       "      <td>TV-14</td>\n",
       "      <td>733</td>\n",
       "    </tr>\n",
       "    <tr>\n",
       "      <th>2</th>\n",
       "      <td>TV-PG</td>\n",
       "      <td>323</td>\n",
       "    </tr>\n",
       "    <tr>\n",
       "      <th>3</th>\n",
       "      <td>TV-Y7</td>\n",
       "      <td>195</td>\n",
       "    </tr>\n",
       "    <tr>\n",
       "      <th>4</th>\n",
       "      <td>TV-Y</td>\n",
       "      <td>176</td>\n",
       "    </tr>\n",
       "    <tr>\n",
       "      <th>5</th>\n",
       "      <td>TV-G</td>\n",
       "      <td>94</td>\n",
       "    </tr>\n",
       "    <tr>\n",
       "      <th>6</th>\n",
       "      <td>NR</td>\n",
       "      <td>5</td>\n",
       "    </tr>\n",
       "    <tr>\n",
       "      <th>7</th>\n",
       "      <td>R</td>\n",
       "      <td>2</td>\n",
       "    </tr>\n",
       "    <tr>\n",
       "      <th>8</th>\n",
       "      <td>TV-Y7-FV</td>\n",
       "      <td>1</td>\n",
       "    </tr>\n",
       "  </tbody>\n",
       "</table>\n",
       "</div>"
      ],
      "text/plain": [
       "     rating  counts\n",
       "0     TV-MA    1145\n",
       "1     TV-14     733\n",
       "2     TV-PG     323\n",
       "3     TV-Y7     195\n",
       "4      TV-Y     176\n",
       "5      TV-G      94\n",
       "6        NR       5\n",
       "7         R       2\n",
       "8  TV-Y7-FV       1"
      ]
     },
     "execution_count": 13,
     "metadata": {},
     "output_type": "execute_result"
    }
   ],
   "source": [
    "rating2 = netflix_shows['rating'].value_counts().rename_axis('rating').reset_index(name='counts')\n",
    "rating2"
   ]
  },
  {
   "cell_type": "code",
   "execution_count": 14,
   "id": "dcd21ce8",
   "metadata": {
    "execution": {
     "iopub.execute_input": "2023-01-23T06:08:25.027830Z",
     "iopub.status.busy": "2023-01-23T06:08:25.026563Z",
     "iopub.status.idle": "2023-01-23T06:08:25.315927Z",
     "shell.execute_reply": "2023-01-23T06:08:25.314742Z"
    },
    "papermill": {
     "duration": 0.301325,
     "end_time": "2023-01-23T06:08:25.318519",
     "exception": false,
     "start_time": "2023-01-23T06:08:25.017194",
     "status": "completed"
    },
    "tags": []
   },
   "outputs": [
    {
     "data": {
      "image/png": "[encoded data removed]",
      "text/plain": [
       "<Figure size 1440x576 with 1 Axes>"
      ]
     },
     "metadata": {
      "needs_background": "light"
     },
     "output_type": "display_data"
    }
   ],
   "source": [
    "#plotting top 10 TV shows by rating\n",
    "fig = plt.figure(figsize=(20,8))\n",
    "sns.barplot(x=rating2['rating'].head(10),y=rating2['counts'],edgecolor=\"black\")\n",
    "plt.title(\"Top 10 Ratings(TV Shows)\", fontfamily='serif',fontweight='bold',fontsize=20)\n",
    "plt.show()"
   ]
  },
  {
   "cell_type": "code",
   "execution_count": 15,
   "id": "a4002ee2",
   "metadata": {
    "execution": {
     "iopub.execute_input": "2023-01-23T06:08:25.337542Z",
     "iopub.status.busy": "2023-01-23T06:08:25.336827Z",
     "iopub.status.idle": "2023-01-23T06:08:25.367253Z",
     "shell.execute_reply": "2023-01-23T06:08:25.366072Z"
    },
    "papermill": {
     "duration": 0.042661,
     "end_time": "2023-01-23T06:08:25.369626",
     "exception": false,
     "start_time": "2023-01-23T06:08:25.326965",
     "status": "completed"
    },
    "tags": []
   },
   "outputs": [
    {
     "data": {
      "text/html": [
       "<div>\n",
       "<style scoped>\n",
       "    .dataframe tbody tr th:only-of-type {\n",
       "        vertical-align: middle;\n",
       "    }\n",
       "\n",
       "    .dataframe tbody tr th {\n",
       "        vertical-align: top;\n",
       "    }\n",
       "\n",
       "    .dataframe thead th {\n",
       "        text-align: right;\n",
       "    }\n",
       "</style>\n",
       "<table border=\"1\" class=\"dataframe\">\n",
       "  <thead>\n",
       "    <tr style=\"text-align: right;\">\n",
       "      <th></th>\n",
       "      <th>show_id</th>\n",
       "      <th>type</th>\n",
       "      <th>title</th>\n",
       "      <th>director</th>\n",
       "      <th>cast</th>\n",
       "      <th>country</th>\n",
       "      <th>date_added</th>\n",
       "      <th>release_year</th>\n",
       "      <th>rating</th>\n",
       "      <th>duration</th>\n",
       "      <th>listed_in</th>\n",
       "      <th>description</th>\n",
       "      <th>year_added</th>\n",
       "      <th>first_country</th>\n",
       "    </tr>\n",
       "  </thead>\n",
       "  <tbody>\n",
       "    <tr>\n",
       "      <th>0</th>\n",
       "      <td>s1</td>\n",
       "      <td>Movie</td>\n",
       "      <td>Dick Johnson Is Dead</td>\n",
       "      <td>Kirsten Johnson</td>\n",
       "      <td>No Data</td>\n",
       "      <td>United States</td>\n",
       "      <td>2021-09-25</td>\n",
       "      <td>2020</td>\n",
       "      <td>PG-13</td>\n",
       "      <td>90 min</td>\n",
       "      <td>Documentaries</td>\n",
       "      <td>As her father nears the end of his life, filmm...</td>\n",
       "      <td>2021.0</td>\n",
       "      <td>United States</td>\n",
       "    </tr>\n",
       "    <tr>\n",
       "      <th>1</th>\n",
       "      <td>s2</td>\n",
       "      <td>TV Show</td>\n",
       "      <td>Blood &amp; Water</td>\n",
       "      <td>No Data</td>\n",
       "      <td>Ama Qamata, Khosi Ngema, Gail Mabalane, Thaban...</td>\n",
       "      <td>South Africa</td>\n",
       "      <td>2021-09-24</td>\n",
       "      <td>2021</td>\n",
       "      <td>TV-MA</td>\n",
       "      <td>2 Seasons</td>\n",
       "      <td>International TV Shows, TV Dramas, TV Mysteries</td>\n",
       "      <td>After crossing paths at a party, a Cape Town t...</td>\n",
       "      <td>2021.0</td>\n",
       "      <td>South Africa</td>\n",
       "    </tr>\n",
       "    <tr>\n",
       "      <th>2</th>\n",
       "      <td>s3</td>\n",
       "      <td>TV Show</td>\n",
       "      <td>Ganglands</td>\n",
       "      <td>Julien Leclercq</td>\n",
       "      <td>Sami Bouajila, Tracy Gotoas, Samuel Jouy, Nabi...</td>\n",
       "      <td>No Data</td>\n",
       "      <td>2021-09-24</td>\n",
       "      <td>2021</td>\n",
       "      <td>TV-MA</td>\n",
       "      <td>1 Season</td>\n",
       "      <td>Crime TV Shows, International TV Shows, TV Act...</td>\n",
       "      <td>To protect his family from a powerful drug lor...</td>\n",
       "      <td>2021.0</td>\n",
       "      <td>No Data</td>\n",
       "    </tr>\n",
       "    <tr>\n",
       "      <th>3</th>\n",
       "      <td>s4</td>\n",
       "      <td>TV Show</td>\n",
       "      <td>Jailbirds New Orleans</td>\n",
       "      <td>No Data</td>\n",
       "      <td>No Data</td>\n",
       "      <td>No Data</td>\n",
       "      <td>2021-09-24</td>\n",
       "      <td>2021</td>\n",
       "      <td>TV-MA</td>\n",
       "      <td>1 Season</td>\n",
       "      <td>Docuseries, Reality TV</td>\n",
       "      <td>Feuds, flirtations and toilet talk go down amo...</td>\n",
       "      <td>2021.0</td>\n",
       "      <td>No Data</td>\n",
       "    </tr>\n",
       "    <tr>\n",
       "      <th>4</th>\n",
       "      <td>s5</td>\n",
       "      <td>TV Show</td>\n",
       "      <td>Kota Factory</td>\n",
       "      <td>No Data</td>\n",
       "      <td>Mayur More, Jitendra Kumar, Ranjan Raj, Alam K...</td>\n",
       "      <td>India</td>\n",
       "      <td>2021-09-24</td>\n",
       "      <td>2021</td>\n",
       "      <td>TV-MA</td>\n",
       "      <td>2 Seasons</td>\n",
       "      <td>International TV Shows, Romantic TV Shows, TV ...</td>\n",
       "      <td>In a city of coaching centers known to train I...</td>\n",
       "      <td>2021.0</td>\n",
       "      <td>India</td>\n",
       "    </tr>\n",
       "    <tr>\n",
       "      <th>...</th>\n",
       "      <td>...</td>\n",
       "      <td>...</td>\n",
       "      <td>...</td>\n",
       "      <td>...</td>\n",
       "      <td>...</td>\n",
       "      <td>...</td>\n",
       "      <td>...</td>\n",
       "      <td>...</td>\n",
       "      <td>...</td>\n",
       "      <td>...</td>\n",
       "      <td>...</td>\n",
       "      <td>...</td>\n",
       "      <td>...</td>\n",
       "      <td>...</td>\n",
       "    </tr>\n",
       "    <tr>\n",
       "      <th>8802</th>\n",
       "      <td>s8803</td>\n",
       "      <td>Movie</td>\n",
       "      <td>Zodiac</td>\n",
       "      <td>David Fincher</td>\n",
       "      <td>Mark Ruffalo, Jake Gyllenhaal, Robert Downey J...</td>\n",
       "      <td>United States</td>\n",
       "      <td>2019-11-20</td>\n",
       "      <td>2007</td>\n",
       "      <td>R</td>\n",
       "      <td>158 min</td>\n",
       "      <td>Cult Movies, Dramas, Thrillers</td>\n",
       "      <td>A political cartoonist, a crime reporter and a...</td>\n",
       "      <td>2019.0</td>\n",
       "      <td>United States</td>\n",
       "    </tr>\n",
       "    <tr>\n",
       "      <th>8803</th>\n",
       "      <td>s8804</td>\n",
       "      <td>TV Show</td>\n",
       "      <td>Zombie Dumb</td>\n",
       "      <td>No Data</td>\n",
       "      <td>No Data</td>\n",
       "      <td>No Data</td>\n",
       "      <td>2019-07-01</td>\n",
       "      <td>2018</td>\n",
       "      <td>TV-Y7</td>\n",
       "      <td>2 Seasons</td>\n",
       "      <td>Kids' TV, Korean TV Shows, TV Comedies</td>\n",
       "      <td>While living alone in a spooky town, a young g...</td>\n",
       "      <td>2019.0</td>\n",
       "      <td>No Data</td>\n",
       "    </tr>\n",
       "    <tr>\n",
       "      <th>8804</th>\n",
       "      <td>s8805</td>\n",
       "      <td>Movie</td>\n",
       "      <td>Zombieland</td>\n",
       "      <td>Ruben Fleischer</td>\n",
       "      <td>Jesse Eisenberg, Woody Harrelson, Emma Stone, ...</td>\n",
       "      <td>United States</td>\n",
       "      <td>2019-11-01</td>\n",
       "      <td>2009</td>\n",
       "      <td>R</td>\n",
       "      <td>88 min</td>\n",
       "      <td>Comedies, Horror Movies</td>\n",
       "      <td>Looking to survive in a world taken over by zo...</td>\n",
       "      <td>2019.0</td>\n",
       "      <td>United States</td>\n",
       "    </tr>\n",
       "    <tr>\n",
       "      <th>8805</th>\n",
       "      <td>s8806</td>\n",
       "      <td>Movie</td>\n",
       "      <td>Zoom</td>\n",
       "      <td>Peter Hewitt</td>\n",
       "      <td>Tim Allen, Courteney Cox, Chevy Chase, Kate Ma...</td>\n",
       "      <td>United States</td>\n",
       "      <td>2020-01-11</td>\n",
       "      <td>2006</td>\n",
       "      <td>PG</td>\n",
       "      <td>88 min</td>\n",
       "      <td>Children &amp; Family Movies, Comedies</td>\n",
       "      <td>Dragged from civilian life, a former superhero...</td>\n",
       "      <td>2020.0</td>\n",
       "      <td>United States</td>\n",
       "    </tr>\n",
       "    <tr>\n",
       "      <th>8806</th>\n",
       "      <td>s8807</td>\n",
       "      <td>Movie</td>\n",
       "      <td>Zubaan</td>\n",
       "      <td>Mozez Singh</td>\n",
       "      <td>Vicky Kaushal, Sarah-Jane Dias, Raaghav Chanan...</td>\n",
       "      <td>India</td>\n",
       "      <td>2019-03-02</td>\n",
       "      <td>2015</td>\n",
       "      <td>TV-14</td>\n",
       "      <td>111 min</td>\n",
       "      <td>Dramas, International Movies, Music &amp; Musicals</td>\n",
       "      <td>A scrappy but poor boy worms his way into a ty...</td>\n",
       "      <td>2019.0</td>\n",
       "      <td>India</td>\n",
       "    </tr>\n",
       "  </tbody>\n",
       "</table>\n",
       "<p>8807 rows × 14 columns</p>\n",
       "</div>"
      ],
      "text/plain": [
       "     show_id     type                  title         director  \\\n",
       "0         s1    Movie   Dick Johnson Is Dead  Kirsten Johnson   \n",
       "1         s2  TV Show          Blood & Water          No Data   \n",
       "2         s3  TV Show              Ganglands  Julien Leclercq   \n",
       "3         s4  TV Show  Jailbirds New Orleans          No Data   \n",
       "4         s5  TV Show           Kota Factory          No Data   \n",
       "...      ...      ...                    ...              ...   \n",
       "8802   s8803    Movie                 Zodiac    David Fincher   \n",
       "8803   s8804  TV Show            Zombie Dumb          No Data   \n",
       "8804   s8805    Movie             Zombieland  Ruben Fleischer   \n",
       "8805   s8806    Movie                   Zoom     Peter Hewitt   \n",
       "8806   s8807    Movie                 Zubaan      Mozez Singh   \n",
       "\n",
       "                                                   cast        country  \\\n",
       "0                                               No Data  United States   \n",
       "1     Ama Qamata, Khosi Ngema, Gail Mabalane, Thaban...   South Africa   \n",
       "2     Sami Bouajila, Tracy Gotoas, Samuel Jouy, Nabi...        No Data   \n",
       "3                                               No Data        No Data   \n",
       "4     Mayur More, Jitendra Kumar, Ranjan Raj, Alam K...          India   \n",
       "...                                                 ...            ...   \n",
       "8802  Mark Ruffalo, Jake Gyllenhaal, Robert Downey J...  United States   \n",
       "8803                                            No Data        No Data   \n",
       "8804  Jesse Eisenberg, Woody Harrelson, Emma Stone, ...  United States   \n",
       "8805  Tim Allen, Courteney Cox, Chevy Chase, Kate Ma...  United States   \n",
       "8806  Vicky Kaushal, Sarah-Jane Dias, Raaghav Chanan...          India   \n",
       "\n",
       "     date_added  release_year rating   duration  \\\n",
       "0    2021-09-25          2020  PG-13     90 min   \n",
       "1    2021-09-24          2021  TV-MA  2 Seasons   \n",
       "2    2021-09-24          2021  TV-MA   1 Season   \n",
       "3    2021-09-24          2021  TV-MA   1 Season   \n",
       "4    2021-09-24          2021  TV-MA  2 Seasons   \n",
       "...         ...           ...    ...        ...   \n",
       "8802 2019-11-20          2007      R    158 min   \n",
       "8803 2019-07-01          2018  TV-Y7  2 Seasons   \n",
       "8804 2019-11-01          2009      R     88 min   \n",
       "8805 2020-01-11          2006     PG     88 min   \n",
       "8806 2019-03-02          2015  TV-14    111 min   \n",
       "\n",
       "                                              listed_in  \\\n",
       "0                                         Documentaries   \n",
       "1       International TV Shows, TV Dramas, TV Mysteries   \n",
       "2     Crime TV Shows, International TV Shows, TV Act...   \n",
       "3                                Docuseries, Reality TV   \n",
       "4     International TV Shows, Romantic TV Shows, TV ...   \n",
       "...                                                 ...   \n",
       "8802                     Cult Movies, Dramas, Thrillers   \n",
       "8803             Kids' TV, Korean TV Shows, TV Comedies   \n",
       "8804                            Comedies, Horror Movies   \n",
       "8805                 Children & Family Movies, Comedies   \n",
       "8806     Dramas, International Movies, Music & Musicals   \n",
       "\n",
       "                                            description  year_added  \\\n",
       "0     As her father nears the end of his life, filmm...      2021.0   \n",
       "1     After crossing paths at a party, a Cape Town t...      2021.0   \n",
       "2     To protect his family from a powerful drug lor...      2021.0   \n",
       "3     Feuds, flirtations and toilet talk go down amo...      2021.0   \n",
       "4     In a city of coaching centers known to train I...      2021.0   \n",
       "...                                                 ...         ...   \n",
       "8802  A political cartoonist, a crime reporter and a...      2019.0   \n",
       "8803  While living alone in a spooky town, a young g...      2019.0   \n",
       "8804  Looking to survive in a world taken over by zo...      2019.0   \n",
       "8805  Dragged from civilian life, a former superhero...      2020.0   \n",
       "8806  A scrappy but poor boy worms his way into a ty...      2019.0   \n",
       "\n",
       "      first_country  \n",
       "0     United States  \n",
       "1      South Africa  \n",
       "2           No Data  \n",
       "3           No Data  \n",
       "4             India  \n",
       "...             ...  \n",
       "8802  United States  \n",
       "8803        No Data  \n",
       "8804  United States  \n",
       "8805  United States  \n",
       "8806          India  \n",
       "\n",
       "[8807 rows x 14 columns]"
      ]
     },
     "execution_count": 15,
     "metadata": {},
     "output_type": "execute_result"
    }
   ],
   "source": [
    "df"
   ]
  },
  {
   "cell_type": "code",
   "execution_count": null,
   "id": "bec59ca9",
   "metadata": {
    "papermill": {
     "duration": 0.009,
     "end_time": "2023-01-23T06:08:25.387905",
     "exception": false,
     "start_time": "2023-01-23T06:08:25.378905",
     "status": "completed"
    },
    "tags": []
   },
   "outputs": [],
   "source": []
  }
 ],
 "metadata": {
  "kernelspec": {
   "display_name": "Python 3",
   "language": "python",
   "name": "python3"
  },
  "language_info": {
   "codemirror_mode": {
    "name": "ipython",
    "version": 3
   },
   "file_extension": ".py",
   "mimetype": "text/x-python",
   "name": "python",
   "nbconvert_exporter": "python",
   "pygments_lexer": "ipython3",
   "version": "3.7.12"
  },
  "papermill": {
   "default_parameters": {},
   "duration": 15.901936,
   "end_time": "2023-01-23T06:08:26.322395",
   "environment_variables": {},
   "exception": null,
   "input_path": "__notebook__.ipynb",
   "output_path": "__notebook__.ipynb",
   "parameters": {},
   "start_time": "2023-01-23T06:08:10.420459",
   "version": "2.3.4"
  }
 },
 "nbformat": 4,
 "nbformat_minor": 5
}
