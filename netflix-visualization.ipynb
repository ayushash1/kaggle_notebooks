{
 "cells": [
  {
   "cell_type": "code",
   "execution_count": null,
   "id": "f2389765",
   "metadata": {
    "papermill": {
     "duration": 0.005899,
     "end_time": "2023-01-19T07:48:49.226095",
     "exception": false,
     "start_time": "2023-01-19T07:48:49.220196",
     "status": "completed"
    },
    "tags": []
   },
   "outputs": [],
   "source": []
  },
  {
   "cell_type": "code",
   "execution_count": 1,
   "id": "a98bbfa6",
   "metadata": {
    "_cell_guid": "b1076dfc-b9ad-4769-8c92-a6c4dae69d19",
    "_uuid": "8f2839f25d086af736a60e9eeb907d3b93b6e0e5",
    "execution": {
     "iopub.execute_input": "2023-01-19T07:48:49.238894Z",
     "iopub.status.busy": "2023-01-19T07:48:49.237857Z",
     "iopub.status.idle": "2023-01-19T07:48:49.257849Z",
     "shell.execute_reply": "2023-01-19T07:48:49.256653Z"
    },
    "jupyter": {
     "source_hidden": true
    },
    "papermill": {
     "duration": 0.029231,
     "end_time": "2023-01-19T07:48:49.260478",
     "exception": false,
     "start_time": "2023-01-19T07:48:49.231247",
     "status": "completed"
    },
    "tags": []
   },
   "outputs": [
    {
     "name": "stdout",
     "output_type": "stream",
     "text": [
      "/kaggle/input/netflix-shows/netflix_titles.csv\n"
     ]
    }
   ],
   "source": [
    "# This Python 3 environment comes with many helpful analytics libraries installed\n",
    "# It is defined by the kaggle/python Docker image: https://github.com/kaggle/docker-python\n",
    "# For example, here's several helpful packages to load\n",
    "\n",
    "import numpy as np # linear algebra\n",
    "import pandas as pd # data processing, CSV file I/O (e.g. pd.read_csv)\n",
    "\n",
    "# Input data files are available in the read-only \"../input/\" directory\n",
    "# For example, running this (by clicking run or pressing Shift+Enter) will list all files under the input directory\n",
    "\n",
    "import os\n",
    "for dirname, _, filenames in os.walk('/kaggle/input'):\n",
    "    for filename in filenames:\n",
    "        print(os.path.join(dirname, filename))\n",
    "\n",
    "# You can write up to 20GB to the current directory (/kaggle/working/) that gets preserved as output when you create a version using \"Save & Run All\" \n",
    "# You can also write temporary files to /kaggle/temp/, but they won't be saved outside of the current session"
   ]
  },
  {
   "cell_type": "code",
   "execution_count": 2,
   "id": "c2085a03",
   "metadata": {
    "execution": {
     "iopub.execute_input": "2023-01-19T07:48:49.273711Z",
     "iopub.status.busy": "2023-01-19T07:48:49.272767Z",
     "iopub.status.idle": "2023-01-19T07:48:50.256443Z",
     "shell.execute_reply": "2023-01-19T07:48:50.255197Z"
    },
    "papermill": {
     "duration": 0.993239,
     "end_time": "2023-01-19T07:48:50.259714",
     "exception": false,
     "start_time": "2023-01-19T07:48:49.266475",
     "status": "completed"
    },
    "tags": []
   },
   "outputs": [],
   "source": [
    "#import\n",
    "import pandas as pd\n",
    "import matplotlib.pyplot as plt\n",
    "import seaborn as sns"
   ]
  },
  {
   "cell_type": "code",
   "execution_count": 3,
   "id": "f94bdf9b",
   "metadata": {
    "execution": {
     "iopub.execute_input": "2023-01-19T07:48:50.271808Z",
     "iopub.status.busy": "2023-01-19T07:48:50.271167Z",
     "iopub.status.idle": "2023-01-19T07:48:50.418839Z",
     "shell.execute_reply": "2023-01-19T07:48:50.418000Z"
    },
    "papermill": {
     "duration": 0.156226,
     "end_time": "2023-01-19T07:48:50.421016",
     "exception": false,
     "start_time": "2023-01-19T07:48:50.264790",
     "status": "completed"
    },
    "tags": []
   },
   "outputs": [
    {
     "data": {
      "text/html": [
       "<div>\n",
       "<style scoped>\n",
       "    .dataframe tbody tr th:only-of-type {\n",
       "        vertical-align: middle;\n",
       "    }\n",
       "\n",
       "    .dataframe tbody tr th {\n",
       "        vertical-align: top;\n",
       "    }\n",
       "\n",
       "    .dataframe thead th {\n",
       "        text-align: right;\n",
       "    }\n",
       "</style>\n",
       "<table border=\"1\" class=\"dataframe\">\n",
       "  <thead>\n",
       "    <tr style=\"text-align: right;\">\n",
       "      <th></th>\n",
       "      <th>show_id</th>\n",
       "      <th>type</th>\n",
       "      <th>title</th>\n",
       "      <th>director</th>\n",
       "      <th>cast</th>\n",
       "      <th>country</th>\n",
       "      <th>date_added</th>\n",
       "      <th>release_year</th>\n",
       "      <th>rating</th>\n",
       "      <th>duration</th>\n",
       "      <th>listed_in</th>\n",
       "      <th>description</th>\n",
       "    </tr>\n",
       "  </thead>\n",
       "  <tbody>\n",
       "    <tr>\n",
       "      <th>0</th>\n",
       "      <td>s1</td>\n",
       "      <td>Movie</td>\n",
       "      <td>Dick Johnson Is Dead</td>\n",
       "      <td>Kirsten Johnson</td>\n",
       "      <td>NaN</td>\n",
       "      <td>United States</td>\n",
       "      <td>September 25, 2021</td>\n",
       "      <td>2020</td>\n",
       "      <td>PG-13</td>\n",
       "      <td>90 min</td>\n",
       "      <td>Documentaries</td>\n",
       "      <td>As her father nears the end of his life, filmm...</td>\n",
       "    </tr>\n",
       "    <tr>\n",
       "      <th>1</th>\n",
       "      <td>s2</td>\n",
       "      <td>TV Show</td>\n",
       "      <td>Blood &amp; Water</td>\n",
       "      <td>NaN</td>\n",
       "      <td>Ama Qamata, Khosi Ngema, Gail Mabalane, Thaban...</td>\n",
       "      <td>South Africa</td>\n",
       "      <td>September 24, 2021</td>\n",
       "      <td>2021</td>\n",
       "      <td>TV-MA</td>\n",
       "      <td>2 Seasons</td>\n",
       "      <td>International TV Shows, TV Dramas, TV Mysteries</td>\n",
       "      <td>After crossing paths at a party, a Cape Town t...</td>\n",
       "    </tr>\n",
       "    <tr>\n",
       "      <th>2</th>\n",
       "      <td>s3</td>\n",
       "      <td>TV Show</td>\n",
       "      <td>Ganglands</td>\n",
       "      <td>Julien Leclercq</td>\n",
       "      <td>Sami Bouajila, Tracy Gotoas, Samuel Jouy, Nabi...</td>\n",
       "      <td>NaN</td>\n",
       "      <td>September 24, 2021</td>\n",
       "      <td>2021</td>\n",
       "      <td>TV-MA</td>\n",
       "      <td>1 Season</td>\n",
       "      <td>Crime TV Shows, International TV Shows, TV Act...</td>\n",
       "      <td>To protect his family from a powerful drug lor...</td>\n",
       "    </tr>\n",
       "  </tbody>\n",
       "</table>\n",
       "</div>"
      ],
      "text/plain": [
       "  show_id     type                 title         director  \\\n",
       "0      s1    Movie  Dick Johnson Is Dead  Kirsten Johnson   \n",
       "1      s2  TV Show         Blood & Water              NaN   \n",
       "2      s3  TV Show             Ganglands  Julien Leclercq   \n",
       "\n",
       "                                                cast        country  \\\n",
       "0                                                NaN  United States   \n",
       "1  Ama Qamata, Khosi Ngema, Gail Mabalane, Thaban...   South Africa   \n",
       "2  Sami Bouajila, Tracy Gotoas, Samuel Jouy, Nabi...            NaN   \n",
       "\n",
       "           date_added  release_year rating   duration  \\\n",
       "0  September 25, 2021          2020  PG-13     90 min   \n",
       "1  September 24, 2021          2021  TV-MA  2 Seasons   \n",
       "2  September 24, 2021          2021  TV-MA   1 Season   \n",
       "\n",
       "                                           listed_in  \\\n",
       "0                                      Documentaries   \n",
       "1    International TV Shows, TV Dramas, TV Mysteries   \n",
       "2  Crime TV Shows, International TV Shows, TV Act...   \n",
       "\n",
       "                                         description  \n",
       "0  As her father nears the end of his life, filmm...  \n",
       "1  After crossing paths at a party, a Cape Town t...  \n",
       "2  To protect his family from a powerful drug lor...  "
      ]
     },
     "execution_count": 3,
     "metadata": {},
     "output_type": "execute_result"
    }
   ],
   "source": [
    "#read data\n",
    "df = pd.read_csv(\"/kaggle/input/netflix-shows/netflix_titles.csv\")\n",
    "df.head(3)"
   ]
  },
  {
   "cell_type": "code",
   "execution_count": 4,
   "id": "6023e930",
   "metadata": {
    "execution": {
     "iopub.execute_input": "2023-01-19T07:48:50.433155Z",
     "iopub.status.busy": "2023-01-19T07:48:50.432746Z",
     "iopub.status.idle": "2023-01-19T07:48:50.470299Z",
     "shell.execute_reply": "2023-01-19T07:48:50.468964Z"
    },
    "papermill": {
     "duration": 0.046871,
     "end_time": "2023-01-19T07:48:50.473188",
     "exception": false,
     "start_time": "2023-01-19T07:48:50.426317",
     "status": "completed"
    },
    "tags": []
   },
   "outputs": [
    {
     "name": "stdout",
     "output_type": "stream",
     "text": [
      "<class 'pandas.core.frame.DataFrame'>\n",
      "RangeIndex: 8807 entries, 0 to 8806\n",
      "Data columns (total 12 columns):\n",
      " #   Column        Non-Null Count  Dtype \n",
      "---  ------        --------------  ----- \n",
      " 0   show_id       8807 non-null   object\n",
      " 1   type          8807 non-null   object\n",
      " 2   title         8807 non-null   object\n",
      " 3   director      6173 non-null   object\n",
      " 4   cast          7982 non-null   object\n",
      " 5   country       7976 non-null   object\n",
      " 6   date_added    8797 non-null   object\n",
      " 7   release_year  8807 non-null   int64 \n",
      " 8   rating        8803 non-null   object\n",
      " 9   duration      8804 non-null   object\n",
      " 10  listed_in     8807 non-null   object\n",
      " 11  description   8807 non-null   object\n",
      "dtypes: int64(1), object(11)\n",
      "memory usage: 825.8+ KB\n",
      "\n",
      "\n",
      "null info\n"
     ]
    },
    {
     "data": {
      "text/plain": [
       "show_id            0\n",
       "type               0\n",
       "title              0\n",
       "director        2634\n",
       "cast             825\n",
       "country          831\n",
       "date_added        10\n",
       "release_year       0\n",
       "rating             4\n",
       "duration           3\n",
       "listed_in          0\n",
       "description        0\n",
       "dtype: int64"
      ]
     },
     "execution_count": 4,
     "metadata": {},
     "output_type": "execute_result"
    }
   ],
   "source": [
    "#checking datatype and null ifno\n",
    "df.info()\n",
    "print(\"\\n\")\n",
    "print(\"null info\")\n",
    "df.isnull().sum()"
   ]
  },
  {
   "cell_type": "code",
   "execution_count": 5,
   "id": "d5d94ce7",
   "metadata": {
    "execution": {
     "iopub.execute_input": "2023-01-19T07:48:50.486159Z",
     "iopub.status.busy": "2023-01-19T07:48:50.485733Z",
     "iopub.status.idle": "2023-01-19T07:48:50.706839Z",
     "shell.execute_reply": "2023-01-19T07:48:50.705863Z"
    },
    "papermill": {
     "duration": 0.230653,
     "end_time": "2023-01-19T07:48:50.709485",
     "exception": false,
     "start_time": "2023-01-19T07:48:50.478832",
     "status": "completed"
    },
    "tags": []
   },
   "outputs": [],
   "source": [
    "#changing data type\n",
    "df['date_added'] = pd.to_datetime(df['date_added'])\n",
    "df['year_added'] = df['date_added'].dt.year"
   ]
  },
  {
   "cell_type": "code",
   "execution_count": 6,
   "id": "6ea2ef0e",
   "metadata": {
    "execution": {
     "iopub.execute_input": "2023-01-19T07:48:50.721952Z",
     "iopub.status.busy": "2023-01-19T07:48:50.721582Z",
     "iopub.status.idle": "2023-01-19T07:48:50.733580Z",
     "shell.execute_reply": "2023-01-19T07:48:50.732473Z"
    },
    "papermill": {
     "duration": 0.021267,
     "end_time": "2023-01-19T07:48:50.736145",
     "exception": false,
     "start_time": "2023-01-19T07:48:50.714878",
     "status": "completed"
    },
    "tags": []
   },
   "outputs": [],
   "source": [
    "netflix_shows=df[df['type']=='TV Show']\n",
    "netflix_movies=df[df['type']=='Movie']"
   ]
  },
  {
   "cell_type": "code",
   "execution_count": 7,
   "id": "d55b6ccb",
   "metadata": {
    "execution": {
     "iopub.execute_input": "2023-01-19T07:48:50.748615Z",
     "iopub.status.busy": "2023-01-19T07:48:50.748249Z",
     "iopub.status.idle": "2023-01-19T07:48:50.956913Z",
     "shell.execute_reply": "2023-01-19T07:48:50.955809Z"
    },
    "papermill": {
     "duration": 0.219021,
     "end_time": "2023-01-19T07:48:50.960598",
     "exception": false,
     "start_time": "2023-01-19T07:48:50.741577",
     "status": "completed"
    },
    "tags": []
   },
   "outputs": [
    {
     "data": {
      "image/png": "[encoded data removed]",
      "text/plain": [
       "<Figure size 720x720 with 1 Axes>"
      ]
     },
     "metadata": {},
     "output_type": "display_data"
    }
   ],
   "source": [
    "#compairing Movies and TV Show\n",
    "cat = df['type'].value_counts().rename_axis('type').reset_index(name='counts')\n",
    "fig = plt.figure(figsize=(10,10))\n",
    "# plt.bar(cat['type'],cat['counts'])\n",
    "plt.pie(x=cat['counts'], labels=cat['type'], autopct='%1.2f%%')\n",
    "plt.legend()\n",
    "plt.title('Movies and TV Shows Comparison')\n",
    "plt.show()"
   ]
  },
  {
   "cell_type": "markdown",
   "id": "4b1a1d77",
   "metadata": {
    "papermill": {
     "duration": 0.01451,
     "end_time": "2023-01-19T07:48:50.989775",
     "exception": false,
     "start_time": "2023-01-19T07:48:50.975265",
     "status": "completed"
    },
    "tags": []
   },
   "source": [
    "Almost **70% Movies** and **30%TV Shows**"
   ]
  },
  {
   "cell_type": "markdown",
   "id": "2082cff9",
   "metadata": {
    "papermill": {
     "duration": 0.005631,
     "end_time": "2023-01-19T07:48:51.007900",
     "exception": false,
     "start_time": "2023-01-19T07:48:51.002269",
     "status": "completed"
    },
    "tags": []
   },
   "source": [
    "**United States** tops the chart followed by India and United Kingdom  \n",
    "US is almost triple the ammount copaired to India"
   ]
  },
  {
   "cell_type": "code",
   "execution_count": 8,
   "id": "7ea95338",
   "metadata": {
    "execution": {
     "iopub.execute_input": "2023-01-19T07:48:51.023589Z",
     "iopub.status.busy": "2023-01-19T07:48:51.023202Z",
     "iopub.status.idle": "2023-01-19T07:48:51.042528Z",
     "shell.execute_reply": "2023-01-19T07:48:51.041200Z"
    },
    "papermill": {
     "duration": 0.031713,
     "end_time": "2023-01-19T07:48:51.045719",
     "exception": false,
     "start_time": "2023-01-19T07:48:51.014006",
     "status": "completed"
    },
    "tags": []
   },
   "outputs": [
    {
     "data": {
      "text/html": [
       "<div>\n",
       "<style scoped>\n",
       "    .dataframe tbody tr th:only-of-type {\n",
       "        vertical-align: middle;\n",
       "    }\n",
       "\n",
       "    .dataframe tbody tr th {\n",
       "        vertical-align: top;\n",
       "    }\n",
       "\n",
       "    .dataframe thead th {\n",
       "        text-align: right;\n",
       "    }\n",
       "</style>\n",
       "<table border=\"1\" class=\"dataframe\">\n",
       "  <thead>\n",
       "    <tr style=\"text-align: right;\">\n",
       "      <th></th>\n",
       "      <th>country</th>\n",
       "      <th>counts</th>\n",
       "    </tr>\n",
       "  </thead>\n",
       "  <tbody>\n",
       "    <tr>\n",
       "      <th>48</th>\n",
       "      <td>Sweden</td>\n",
       "      <td>13</td>\n",
       "    </tr>\n",
       "    <tr>\n",
       "      <th>49</th>\n",
       "      <td>Germany, United States</td>\n",
       "      <td>13</td>\n",
       "    </tr>\n",
       "    <tr>\n",
       "      <th>50</th>\n",
       "      <td>Israel</td>\n",
       "      <td>13</td>\n",
       "    </tr>\n",
       "    <tr>\n",
       "      <th>51</th>\n",
       "      <td>New Zealand</td>\n",
       "      <td>12</td>\n",
       "    </tr>\n",
       "    <tr>\n",
       "      <th>52</th>\n",
       "      <td>Japan, United States</td>\n",
       "      <td>12</td>\n",
       "    </tr>\n",
       "    <tr>\n",
       "      <th>...</th>\n",
       "      <td>...</td>\n",
       "      <td>...</td>\n",
       "    </tr>\n",
       "    <tr>\n",
       "      <th>743</th>\n",
       "      <td>Romania, Bulgaria, Hungary</td>\n",
       "      <td>1</td>\n",
       "    </tr>\n",
       "    <tr>\n",
       "      <th>744</th>\n",
       "      <td>Uruguay, Guatemala</td>\n",
       "      <td>1</td>\n",
       "    </tr>\n",
       "    <tr>\n",
       "      <th>745</th>\n",
       "      <td>France, Senegal, Belgium</td>\n",
       "      <td>1</td>\n",
       "    </tr>\n",
       "    <tr>\n",
       "      <th>746</th>\n",
       "      <td>Mexico, United States, Spain, Colombia</td>\n",
       "      <td>1</td>\n",
       "    </tr>\n",
       "    <tr>\n",
       "      <th>747</th>\n",
       "      <td>United Arab Emirates, Jordan</td>\n",
       "      <td>1</td>\n",
       "    </tr>\n",
       "  </tbody>\n",
       "</table>\n",
       "<p>700 rows × 2 columns</p>\n",
       "</div>"
      ],
      "text/plain": [
       "                                    country  counts\n",
       "48                                   Sweden      13\n",
       "49                   Germany, United States      13\n",
       "50                                   Israel      13\n",
       "51                              New Zealand      12\n",
       "52                     Japan, United States      12\n",
       "..                                      ...     ...\n",
       "743              Romania, Bulgaria, Hungary       1\n",
       "744                      Uruguay, Guatemala       1\n",
       "745                France, Senegal, Belgium       1\n",
       "746  Mexico, United States, Spain, Colombia       1\n",
       "747            United Arab Emirates, Jordan       1\n",
       "\n",
       "[700 rows x 2 columns]"
      ]
     },
     "execution_count": 8,
     "metadata": {},
     "output_type": "execute_result"
    }
   ],
   "source": [
    "countries = df['country'].value_counts().rename_axis('country').reset_index(name='counts')\n",
    "countries.tail(700)"
   ]
  },
  {
   "cell_type": "code",
   "execution_count": 9,
   "id": "0d65ca83",
   "metadata": {
    "execution": {
     "iopub.execute_input": "2023-01-19T07:48:51.063634Z",
     "iopub.status.busy": "2023-01-19T07:48:51.062650Z",
     "iopub.status.idle": "2023-01-19T07:48:51.082045Z",
     "shell.execute_reply": "2023-01-19T07:48:51.081184Z"
    },
    "papermill": {
     "duration": 0.029826,
     "end_time": "2023-01-19T07:48:51.084789",
     "exception": false,
     "start_time": "2023-01-19T07:48:51.054963",
     "status": "completed"
    },
    "tags": []
   },
   "outputs": [
    {
     "data": {
      "text/html": [
       "<div>\n",
       "<style scoped>\n",
       "    .dataframe tbody tr th:only-of-type {\n",
       "        vertical-align: middle;\n",
       "    }\n",
       "\n",
       "    .dataframe tbody tr th {\n",
       "        vertical-align: top;\n",
       "    }\n",
       "\n",
       "    .dataframe thead th {\n",
       "        text-align: right;\n",
       "    }\n",
       "</style>\n",
       "<table border=\"1\" class=\"dataframe\">\n",
       "  <thead>\n",
       "    <tr style=\"text-align: right;\">\n",
       "      <th></th>\n",
       "      <th>show_id</th>\n",
       "      <th>type</th>\n",
       "      <th>title</th>\n",
       "      <th>director</th>\n",
       "      <th>cast</th>\n",
       "      <th>country</th>\n",
       "      <th>date_added</th>\n",
       "      <th>release_year</th>\n",
       "      <th>rating</th>\n",
       "      <th>duration</th>\n",
       "      <th>listed_in</th>\n",
       "      <th>description</th>\n",
       "      <th>year_added</th>\n",
       "    </tr>\n",
       "  </thead>\n",
       "  <tbody>\n",
       "    <tr>\n",
       "      <th>0</th>\n",
       "      <td>s1</td>\n",
       "      <td>Movie</td>\n",
       "      <td>Dick Johnson Is Dead</td>\n",
       "      <td>Kirsten Johnson</td>\n",
       "      <td>NaN</td>\n",
       "      <td>United States</td>\n",
       "      <td>2021-09-25</td>\n",
       "      <td>2020</td>\n",
       "      <td>PG-13</td>\n",
       "      <td>90 min</td>\n",
       "      <td>Documentaries</td>\n",
       "      <td>As her father nears the end of his life, filmm...</td>\n",
       "      <td>2021.0</td>\n",
       "    </tr>\n",
       "    <tr>\n",
       "      <th>1</th>\n",
       "      <td>s2</td>\n",
       "      <td>TV Show</td>\n",
       "      <td>Blood &amp; Water</td>\n",
       "      <td>NaN</td>\n",
       "      <td>Ama Qamata, Khosi Ngema, Gail Mabalane, Thaban...</td>\n",
       "      <td>South Africa</td>\n",
       "      <td>2021-09-24</td>\n",
       "      <td>2021</td>\n",
       "      <td>TV-MA</td>\n",
       "      <td>2 Seasons</td>\n",
       "      <td>International TV Shows, TV Dramas, TV Mysteries</td>\n",
       "      <td>After crossing paths at a party, a Cape Town t...</td>\n",
       "      <td>2021.0</td>\n",
       "    </tr>\n",
       "    <tr>\n",
       "      <th>2</th>\n",
       "      <td>s3</td>\n",
       "      <td>TV Show</td>\n",
       "      <td>Ganglands</td>\n",
       "      <td>Julien Leclercq</td>\n",
       "      <td>Sami Bouajila, Tracy Gotoas, Samuel Jouy, Nabi...</td>\n",
       "      <td>NaN</td>\n",
       "      <td>2021-09-24</td>\n",
       "      <td>2021</td>\n",
       "      <td>TV-MA</td>\n",
       "      <td>1 Season</td>\n",
       "      <td>Crime TV Shows, International TV Shows, TV Act...</td>\n",
       "      <td>To protect his family from a powerful drug lor...</td>\n",
       "      <td>2021.0</td>\n",
       "    </tr>\n",
       "    <tr>\n",
       "      <th>3</th>\n",
       "      <td>s4</td>\n",
       "      <td>TV Show</td>\n",
       "      <td>Jailbirds New Orleans</td>\n",
       "      <td>NaN</td>\n",
       "      <td>NaN</td>\n",
       "      <td>NaN</td>\n",
       "      <td>2021-09-24</td>\n",
       "      <td>2021</td>\n",
       "      <td>TV-MA</td>\n",
       "      <td>1 Season</td>\n",
       "      <td>Docuseries, Reality TV</td>\n",
       "      <td>Feuds, flirtations and toilet talk go down amo...</td>\n",
       "      <td>2021.0</td>\n",
       "    </tr>\n",
       "    <tr>\n",
       "      <th>4</th>\n",
       "      <td>s5</td>\n",
       "      <td>TV Show</td>\n",
       "      <td>Kota Factory</td>\n",
       "      <td>NaN</td>\n",
       "      <td>Mayur More, Jitendra Kumar, Ranjan Raj, Alam K...</td>\n",
       "      <td>India</td>\n",
       "      <td>2021-09-24</td>\n",
       "      <td>2021</td>\n",
       "      <td>TV-MA</td>\n",
       "      <td>2 Seasons</td>\n",
       "      <td>International TV Shows, Romantic TV Shows, TV ...</td>\n",
       "      <td>In a city of coaching centers known to train I...</td>\n",
       "      <td>2021.0</td>\n",
       "    </tr>\n",
       "  </tbody>\n",
       "</table>\n",
       "</div>"
      ],
      "text/plain": [
       "  show_id     type                  title         director  \\\n",
       "0      s1    Movie   Dick Johnson Is Dead  Kirsten Johnson   \n",
       "1      s2  TV Show          Blood & Water              NaN   \n",
       "2      s3  TV Show              Ganglands  Julien Leclercq   \n",
       "3      s4  TV Show  Jailbirds New Orleans              NaN   \n",
       "4      s5  TV Show           Kota Factory              NaN   \n",
       "\n",
       "                                                cast        country  \\\n",
       "0                                                NaN  United States   \n",
       "1  Ama Qamata, Khosi Ngema, Gail Mabalane, Thaban...   South Africa   \n",
       "2  Sami Bouajila, Tracy Gotoas, Samuel Jouy, Nabi...            NaN   \n",
       "3                                                NaN            NaN   \n",
       "4  Mayur More, Jitendra Kumar, Ranjan Raj, Alam K...          India   \n",
       "\n",
       "  date_added  release_year rating   duration  \\\n",
       "0 2021-09-25          2020  PG-13     90 min   \n",
       "1 2021-09-24          2021  TV-MA  2 Seasons   \n",
       "2 2021-09-24          2021  TV-MA   1 Season   \n",
       "3 2021-09-24          2021  TV-MA   1 Season   \n",
       "4 2021-09-24          2021  TV-MA  2 Seasons   \n",
       "\n",
       "                                           listed_in  \\\n",
       "0                                      Documentaries   \n",
       "1    International TV Shows, TV Dramas, TV Mysteries   \n",
       "2  Crime TV Shows, International TV Shows, TV Act...   \n",
       "3                             Docuseries, Reality TV   \n",
       "4  International TV Shows, Romantic TV Shows, TV ...   \n",
       "\n",
       "                                         description  year_added  \n",
       "0  As her father nears the end of his life, filmm...      2021.0  \n",
       "1  After crossing paths at a party, a Cape Town t...      2021.0  \n",
       "2  To protect his family from a powerful drug lor...      2021.0  \n",
       "3  Feuds, flirtations and toilet talk go down amo...      2021.0  \n",
       "4  In a city of coaching centers known to train I...      2021.0  "
      ]
     },
     "execution_count": 9,
     "metadata": {},
     "output_type": "execute_result"
    }
   ],
   "source": [
    "df.head()"
   ]
  },
  {
   "cell_type": "code",
   "execution_count": 10,
   "id": "74fafd88",
   "metadata": {
    "execution": {
     "iopub.execute_input": "2023-01-19T07:48:51.103916Z",
     "iopub.status.busy": "2023-01-19T07:48:51.103221Z",
     "iopub.status.idle": "2023-01-19T07:48:51.386197Z",
     "shell.execute_reply": "2023-01-19T07:48:51.384894Z"
    },
    "papermill": {
     "duration": 0.294133,
     "end_time": "2023-01-19T07:48:51.388861",
     "exception": false,
     "start_time": "2023-01-19T07:48:51.094728",
     "status": "completed"
    },
    "tags": []
   },
   "outputs": [
    {
     "data": {
      "image/png": "[encoded data removed]",
      "text/plain": [
       "<Figure size 1440x576 with 1 Axes>"
      ]
     },
     "metadata": {
      "needs_background": "light"
     },
     "output_type": "display_data"
    }
   ],
   "source": [
    "#plotting top 10 countries\n",
    "fig = plt.figure(figsize=(20,8))\n",
    "customPalette = sns.set_palette(sns.color_palette([\"#ffbaba\",\"#ff7b7b\",\"#ff5252\",\"#ff0000\",\"#a70000\"]))\n",
    "sns.barplot(x=countries['country'].head(10),y=countries['counts'])\n",
    "plt.title(\"Top 10 Countries on Netflix\", fontfamily='serif',fontweight='bold',fontsize=20)\n",
    "plt.show()"
   ]
  },
  {
   "cell_type": "code",
   "execution_count": 11,
   "id": "eaffacc4",
   "metadata": {
    "execution": {
     "iopub.execute_input": "2023-01-19T07:48:51.404469Z",
     "iopub.status.busy": "2023-01-19T07:48:51.404034Z",
     "iopub.status.idle": "2023-01-19T07:48:51.419912Z",
     "shell.execute_reply": "2023-01-19T07:48:51.418459Z"
    },
    "papermill": {
     "duration": 0.026388,
     "end_time": "2023-01-19T07:48:51.422339",
     "exception": false,
     "start_time": "2023-01-19T07:48:51.395951",
     "status": "completed"
    },
    "tags": []
   },
   "outputs": [
    {
     "data": {
      "text/html": [
       "<div>\n",
       "<style scoped>\n",
       "    .dataframe tbody tr th:only-of-type {\n",
       "        vertical-align: middle;\n",
       "    }\n",
       "\n",
       "    .dataframe tbody tr th {\n",
       "        vertical-align: top;\n",
       "    }\n",
       "\n",
       "    .dataframe thead th {\n",
       "        text-align: right;\n",
       "    }\n",
       "</style>\n",
       "<table border=\"1\" class=\"dataframe\">\n",
       "  <thead>\n",
       "    <tr style=\"text-align: right;\">\n",
       "      <th></th>\n",
       "      <th>rating</th>\n",
       "      <th>counts</th>\n",
       "    </tr>\n",
       "  </thead>\n",
       "  <tbody>\n",
       "    <tr>\n",
       "      <th>0</th>\n",
       "      <td>TV-MA</td>\n",
       "      <td>2062</td>\n",
       "    </tr>\n",
       "    <tr>\n",
       "      <th>1</th>\n",
       "      <td>TV-14</td>\n",
       "      <td>1427</td>\n",
       "    </tr>\n",
       "    <tr>\n",
       "      <th>2</th>\n",
       "      <td>R</td>\n",
       "      <td>797</td>\n",
       "    </tr>\n",
       "    <tr>\n",
       "      <th>3</th>\n",
       "      <td>TV-PG</td>\n",
       "      <td>540</td>\n",
       "    </tr>\n",
       "    <tr>\n",
       "      <th>4</th>\n",
       "      <td>PG-13</td>\n",
       "      <td>490</td>\n",
       "    </tr>\n",
       "    <tr>\n",
       "      <th>5</th>\n",
       "      <td>PG</td>\n",
       "      <td>287</td>\n",
       "    </tr>\n",
       "    <tr>\n",
       "      <th>6</th>\n",
       "      <td>TV-Y7</td>\n",
       "      <td>139</td>\n",
       "    </tr>\n",
       "    <tr>\n",
       "      <th>7</th>\n",
       "      <td>TV-Y</td>\n",
       "      <td>131</td>\n",
       "    </tr>\n",
       "    <tr>\n",
       "      <th>8</th>\n",
       "      <td>TV-G</td>\n",
       "      <td>126</td>\n",
       "    </tr>\n",
       "    <tr>\n",
       "      <th>9</th>\n",
       "      <td>NR</td>\n",
       "      <td>75</td>\n",
       "    </tr>\n",
       "    <tr>\n",
       "      <th>10</th>\n",
       "      <td>G</td>\n",
       "      <td>41</td>\n",
       "    </tr>\n",
       "    <tr>\n",
       "      <th>11</th>\n",
       "      <td>TV-Y7-FV</td>\n",
       "      <td>5</td>\n",
       "    </tr>\n",
       "    <tr>\n",
       "      <th>12</th>\n",
       "      <td>NC-17</td>\n",
       "      <td>3</td>\n",
       "    </tr>\n",
       "    <tr>\n",
       "      <th>13</th>\n",
       "      <td>UR</td>\n",
       "      <td>3</td>\n",
       "    </tr>\n",
       "    <tr>\n",
       "      <th>14</th>\n",
       "      <td>74 min</td>\n",
       "      <td>1</td>\n",
       "    </tr>\n",
       "    <tr>\n",
       "      <th>15</th>\n",
       "      <td>84 min</td>\n",
       "      <td>1</td>\n",
       "    </tr>\n",
       "    <tr>\n",
       "      <th>16</th>\n",
       "      <td>66 min</td>\n",
       "      <td>1</td>\n",
       "    </tr>\n",
       "  </tbody>\n",
       "</table>\n",
       "</div>"
      ],
      "text/plain": [
       "      rating  counts\n",
       "0      TV-MA    2062\n",
       "1      TV-14    1427\n",
       "2          R     797\n",
       "3      TV-PG     540\n",
       "4      PG-13     490\n",
       "5         PG     287\n",
       "6      TV-Y7     139\n",
       "7       TV-Y     131\n",
       "8       TV-G     126\n",
       "9         NR      75\n",
       "10         G      41\n",
       "11  TV-Y7-FV       5\n",
       "12     NC-17       3\n",
       "13        UR       3\n",
       "14    74 min       1\n",
       "15    84 min       1\n",
       "16    66 min       1"
      ]
     },
     "execution_count": 11,
     "metadata": {},
     "output_type": "execute_result"
    }
   ],
   "source": [
    "rating = netflix_movies['rating'].value_counts().rename_axis('rating').reset_index(name='counts')\n",
    "rating"
   ]
  },
  {
   "cell_type": "code",
   "execution_count": 12,
   "id": "be45e810",
   "metadata": {
    "execution": {
     "iopub.execute_input": "2023-01-19T07:48:51.438315Z",
     "iopub.status.busy": "2023-01-19T07:48:51.437900Z",
     "iopub.status.idle": "2023-01-19T07:48:51.735203Z",
     "shell.execute_reply": "2023-01-19T07:48:51.733897Z"
    },
    "papermill": {
     "duration": 0.308291,
     "end_time": "2023-01-19T07:48:51.737628",
     "exception": false,
     "start_time": "2023-01-19T07:48:51.429337",
     "status": "completed"
    },
    "tags": []
   },
   "outputs": [
    {
     "data": {
      "image/png": "[encoded data removed]",
      "text/plain": [
       "<Figure size 1440x576 with 1 Axes>"
      ]
     },
     "metadata": {
      "needs_background": "light"
     },
     "output_type": "display_data"
    }
   ],
   "source": [
    "#plotting top 10 rating by counts\n",
    "fig = plt.figure(figsize=(20,8))\n",
    "sns.barplot(x=rating['rating'].head(10),y=rating['counts'])\n",
    "plt.title(\"Top 10 Ratings(Movies)\", fontfamily='serif',fontweight='bold',fontsize=20)\n",
    "plt.show()"
   ]
  },
  {
   "cell_type": "code",
   "execution_count": 13,
   "id": "f50cb1ac",
   "metadata": {
    "execution": {
     "iopub.execute_input": "2023-01-19T07:48:51.755089Z",
     "iopub.status.busy": "2023-01-19T07:48:51.754464Z",
     "iopub.status.idle": "2023-01-19T07:48:51.767415Z",
     "shell.execute_reply": "2023-01-19T07:48:51.766183Z"
    },
    "papermill": {
     "duration": 0.024205,
     "end_time": "2023-01-19T07:48:51.769824",
     "exception": false,
     "start_time": "2023-01-19T07:48:51.745619",
     "status": "completed"
    },
    "tags": []
   },
   "outputs": [
    {
     "data": {
      "text/html": [
       "<div>\n",
       "<style scoped>\n",
       "    .dataframe tbody tr th:only-of-type {\n",
       "        vertical-align: middle;\n",
       "    }\n",
       "\n",
       "    .dataframe tbody tr th {\n",
       "        vertical-align: top;\n",
       "    }\n",
       "\n",
       "    .dataframe thead th {\n",
       "        text-align: right;\n",
       "    }\n",
       "</style>\n",
       "<table border=\"1\" class=\"dataframe\">\n",
       "  <thead>\n",
       "    <tr style=\"text-align: right;\">\n",
       "      <th></th>\n",
       "      <th>rating</th>\n",
       "      <th>counts</th>\n",
       "    </tr>\n",
       "  </thead>\n",
       "  <tbody>\n",
       "    <tr>\n",
       "      <th>0</th>\n",
       "      <td>TV-MA</td>\n",
       "      <td>1145</td>\n",
       "    </tr>\n",
       "    <tr>\n",
       "      <th>1</th>\n",
       "      <td>TV-14</td>\n",
       "      <td>733</td>\n",
       "    </tr>\n",
       "    <tr>\n",
       "      <th>2</th>\n",
       "      <td>TV-PG</td>\n",
       "      <td>323</td>\n",
       "    </tr>\n",
       "    <tr>\n",
       "      <th>3</th>\n",
       "      <td>TV-Y7</td>\n",
       "      <td>195</td>\n",
       "    </tr>\n",
       "    <tr>\n",
       "      <th>4</th>\n",
       "      <td>TV-Y</td>\n",
       "      <td>176</td>\n",
       "    </tr>\n",
       "    <tr>\n",
       "      <th>5</th>\n",
       "      <td>TV-G</td>\n",
       "      <td>94</td>\n",
       "    </tr>\n",
       "    <tr>\n",
       "      <th>6</th>\n",
       "      <td>NR</td>\n",
       "      <td>5</td>\n",
       "    </tr>\n",
       "    <tr>\n",
       "      <th>7</th>\n",
       "      <td>R</td>\n",
       "      <td>2</td>\n",
       "    </tr>\n",
       "    <tr>\n",
       "      <th>8</th>\n",
       "      <td>TV-Y7-FV</td>\n",
       "      <td>1</td>\n",
       "    </tr>\n",
       "  </tbody>\n",
       "</table>\n",
       "</div>"
      ],
      "text/plain": [
       "     rating  counts\n",
       "0     TV-MA    1145\n",
       "1     TV-14     733\n",
       "2     TV-PG     323\n",
       "3     TV-Y7     195\n",
       "4      TV-Y     176\n",
       "5      TV-G      94\n",
       "6        NR       5\n",
       "7         R       2\n",
       "8  TV-Y7-FV       1"
      ]
     },
     "execution_count": 13,
     "metadata": {},
     "output_type": "execute_result"
    }
   ],
   "source": [
    "rating2 = netflix_shows['rating'].value_counts().rename_axis('rating').reset_index(name='counts')\n",
    "rating2"
   ]
  },
  {
   "cell_type": "code",
   "execution_count": 14,
   "id": "dd6a2c4c",
   "metadata": {
    "execution": {
     "iopub.execute_input": "2023-01-19T07:48:51.786888Z",
     "iopub.status.busy": "2023-01-19T07:48:51.786456Z",
     "iopub.status.idle": "2023-01-19T07:48:52.059626Z",
     "shell.execute_reply": "2023-01-19T07:48:52.058306Z"
    },
    "papermill": {
     "duration": 0.284779,
     "end_time": "2023-01-19T07:48:52.062137",
     "exception": false,
     "start_time": "2023-01-19T07:48:51.777358",
     "status": "completed"
    },
    "tags": []
   },
   "outputs": [
    {
     "data": {
      "image/png": "[encoded data removed]",
      "text/plain": [
       "<Figure size 1440x576 with 1 Axes>"
      ]
     },
     "metadata": {
      "needs_background": "light"
     },
     "output_type": "display_data"
    }
   ],
   "source": [
    "#plotting top 10 TV shows by rating\n",
    "fig = plt.figure(figsize=(20,8))\n",
    "sns.barplot(x=rating2['rating'].head(10),y=rating2['counts'])\n",
    "plt.title(\"Top 10 Ratings(TV Shows)\", fontfamily='serif',fontweight='bold',fontsize=20)\n",
    "plt.show()"
   ]
  },
  {
   "cell_type": "code",
   "execution_count": null,
   "id": "5614a2f8",
   "metadata": {
    "papermill": {
     "duration": 0.007463,
     "end_time": "2023-01-19T07:48:52.077389",
     "exception": false,
     "start_time": "2023-01-19T07:48:52.069926",
     "status": "completed"
    },
    "tags": []
   },
   "outputs": [],
   "source": []
  },
  {
   "cell_type": "code",
   "execution_count": null,
   "id": "591a230b",
   "metadata": {
    "papermill": {
     "duration": 0.007488,
     "end_time": "2023-01-19T07:48:52.092498",
     "exception": false,
     "start_time": "2023-01-19T07:48:52.085010",
     "status": "completed"
    },
    "tags": []
   },
   "outputs": [],
   "source": []
  }
 ],
 "metadata": {
  "kernelspec": {
   "display_name": "Python 3",
   "language": "python",
   "name": "python3"
  },
  "language_info": {
   "codemirror_mode": {
    "name": "ipython",
    "version": 3
   },
   "file_extension": ".py",
   "mimetype": "text/x-python",
   "name": "python",
   "nbconvert_exporter": "python",
   "pygments_lexer": "ipython3",
   "version": "3.7.12"
  },
  "papermill": {
   "default_parameters": {},
   "duration": 12.032895,
   "end_time": "2023-01-19T07:48:52.822129",
   "environment_variables": {},
   "exception": null,
   "input_path": "__notebook__.ipynb",
   "output_path": "__notebook__.ipynb",
   "parameters": {},
   "start_time": "2023-01-19T07:48:40.789234",
   "version": "2.3.4"
  }
 },
 "nbformat": 4,
 "nbformat_minor": 5
}
